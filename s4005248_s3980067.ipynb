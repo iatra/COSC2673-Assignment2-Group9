{
  "nbformat": 4,
  "nbformat_minor": 0,
  "metadata": {
    "colab": {
      "provenance": [],
      "gpuType": "T4",
      "include_colab_link": true
    },
    "kernelspec": {
      "name": "python3",
      "display_name": "Python 3"
    },
    "language_info": {
      "name": "python"
    }
  },
  "cells": [
    {
      "cell_type": "markdown",
      "metadata": {
        "id": "view-in-github",
        "colab_type": "text"
      },
      "source": [
        "<a href=\"https://colab.research.google.com/github/iatra/COSC2673-Assignment2-Group9/blob/main/s4005248_s3980067.ipynb\" target=\"_parent\"><img src=\"https://colab.research.google.com/assets/colab-badge.svg\" alt=\"Open In Colab\"/></a>"
      ]
    },
    {
      "cell_type": "markdown",
      "source": [
        "# Machine Learning COSC2673-Assignment2-Group9\n",
        "Author : Joelle Lee Ming Yin (s3980067) & Isabella Tranquilino (s4005248)"
      ],
      "metadata": {
        "id": "yVIjtEiLGrRY"
      }
    },
    {
      "cell_type": "markdown",
      "source": [
        "## Approach"
      ],
      "metadata": {
        "id": "96hLAQl7SxJl"
      }
    },
    {
      "cell_type": "markdown",
      "source": [
        "### Load Dataset"
      ],
      "metadata": {
        "id": "vyR97aAjHjqN"
      }
    },
    {
      "cell_type": "code",
      "source": [
        "from google.colab import drive\n",
        "drive.mount('/content/drive')\n",
        "\n",
        "zip_path = '/content/drive/MyDrive/ML A2 Dataset/Image_classification_data.zip'\n",
        "\n",
        "import zipfile\n",
        "with zipfile.ZipFile(zip_path, 'r') as zip_ref:\n",
        "    zip_ref.extractall('/content/data')\n",
        "\n",
        "import os\n",
        "\n",
        "# List first few files/folders in the extraction folder\n",
        "extracted_path = '/content/data'\n",
        "for root, dirs, files in os.walk(extracted_path):\n",
        "    print(f\"Directory: {root}\")\n",
        "    for file in files[:5]:  # Show up to 5 files per directory\n",
        "        print(f\"  - {file}\")\n",
        "    break  # Remove this if you want to see all subfolders\n"
      ],
      "metadata": {
        "colab": {
          "base_uri": "https://localhost:8080/"
        },
        "id": "mombdUtTH8UG",
        "outputId": "46d75dbf-1b0c-418c-9e6a-89b425d76627"
      },
      "execution_count": null,
      "outputs": [
        {
          "output_type": "stream",
          "name": "stdout",
          "text": [
            "Mounted at /content/drive\n",
            "Directory: /content/data\n",
            "  - data_labels_mainData.csv\n",
            "  - data_labels_extraData.csv\n"
          ]
        }
      ]
    },
    {
      "cell_type": "code",
      "source": [
        "import pandas as pd\n",
        "\n",
        "df_main = pd.read_csv('/content/data/data_labels_mainData.csv')\n",
        "df_extra = pd.read_csv('/content/data/data_labels_extraData.csv')\n",
        "\n",
        "df_main.head()"
      ],
      "metadata": {
        "id": "YSNMuuwYOQ7X",
        "colab": {
          "base_uri": "https://localhost:8080/",
          "height": 206
        },
        "outputId": "af07eb4b-c086-4235-9dd5-664d4bc05a1d"
      },
      "execution_count": null,
      "outputs": [
        {
          "output_type": "execute_result",
          "data": {
            "text/plain": [
              "   InstanceID  patientID  ImageName cellTypeName  cellType  isCancerous\n",
              "0       22405          1  22405.png   fibroblast         0            0\n",
              "1       22406          1  22406.png   fibroblast         0            0\n",
              "2       22407          1  22407.png   fibroblast         0            0\n",
              "3       22408          1  22408.png   fibroblast         0            0\n",
              "4       22409          1  22409.png   fibroblast         0            0"
            ],
            "text/html": [
              "\n",
              "  <div id=\"df-f6f72332-450a-4962-a418-7da23b809f40\" class=\"colab-df-container\">\n",
              "    <div>\n",
              "<style scoped>\n",
              "    .dataframe tbody tr th:only-of-type {\n",
              "        vertical-align: middle;\n",
              "    }\n",
              "\n",
              "    .dataframe tbody tr th {\n",
              "        vertical-align: top;\n",
              "    }\n",
              "\n",
              "    .dataframe thead th {\n",
              "        text-align: right;\n",
              "    }\n",
              "</style>\n",
              "<table border=\"1\" class=\"dataframe\">\n",
              "  <thead>\n",
              "    <tr style=\"text-align: right;\">\n",
              "      <th></th>\n",
              "      <th>InstanceID</th>\n",
              "      <th>patientID</th>\n",
              "      <th>ImageName</th>\n",
              "      <th>cellTypeName</th>\n",
              "      <th>cellType</th>\n",
              "      <th>isCancerous</th>\n",
              "    </tr>\n",
              "  </thead>\n",
              "  <tbody>\n",
              "    <tr>\n",
              "      <th>0</th>\n",
              "      <td>22405</td>\n",
              "      <td>1</td>\n",
              "      <td>22405.png</td>\n",
              "      <td>fibroblast</td>\n",
              "      <td>0</td>\n",
              "      <td>0</td>\n",
              "    </tr>\n",
              "    <tr>\n",
              "      <th>1</th>\n",
              "      <td>22406</td>\n",
              "      <td>1</td>\n",
              "      <td>22406.png</td>\n",
              "      <td>fibroblast</td>\n",
              "      <td>0</td>\n",
              "      <td>0</td>\n",
              "    </tr>\n",
              "    <tr>\n",
              "      <th>2</th>\n",
              "      <td>22407</td>\n",
              "      <td>1</td>\n",
              "      <td>22407.png</td>\n",
              "      <td>fibroblast</td>\n",
              "      <td>0</td>\n",
              "      <td>0</td>\n",
              "    </tr>\n",
              "    <tr>\n",
              "      <th>3</th>\n",
              "      <td>22408</td>\n",
              "      <td>1</td>\n",
              "      <td>22408.png</td>\n",
              "      <td>fibroblast</td>\n",
              "      <td>0</td>\n",
              "      <td>0</td>\n",
              "    </tr>\n",
              "    <tr>\n",
              "      <th>4</th>\n",
              "      <td>22409</td>\n",
              "      <td>1</td>\n",
              "      <td>22409.png</td>\n",
              "      <td>fibroblast</td>\n",
              "      <td>0</td>\n",
              "      <td>0</td>\n",
              "    </tr>\n",
              "  </tbody>\n",
              "</table>\n",
              "</div>\n",
              "    <div class=\"colab-df-buttons\">\n",
              "\n",
              "  <div class=\"colab-df-container\">\n",
              "    <button class=\"colab-df-convert\" onclick=\"convertToInteractive('df-f6f72332-450a-4962-a418-7da23b809f40')\"\n",
              "            title=\"Convert this dataframe to an interactive table.\"\n",
              "            style=\"display:none;\">\n",
              "\n",
              "  <svg xmlns=\"http://www.w3.org/2000/svg\" height=\"24px\" viewBox=\"0 -960 960 960\">\n",
              "    <path d=\"M120-120v-720h720v720H120Zm60-500h600v-160H180v160Zm220 220h160v-160H400v160Zm0 220h160v-160H400v160ZM180-400h160v-160H180v160Zm440 0h160v-160H620v160ZM180-180h160v-160H180v160Zm440 0h160v-160H620v160Z\"/>\n",
              "  </svg>\n",
              "    </button>\n",
              "\n",
              "  <style>\n",
              "    .colab-df-container {\n",
              "      display:flex;\n",
              "      gap: 12px;\n",
              "    }\n",
              "\n",
              "    .colab-df-convert {\n",
              "      background-color: #E8F0FE;\n",
              "      border: none;\n",
              "      border-radius: 50%;\n",
              "      cursor: pointer;\n",
              "      display: none;\n",
              "      fill: #1967D2;\n",
              "      height: 32px;\n",
              "      padding: 0 0 0 0;\n",
              "      width: 32px;\n",
              "    }\n",
              "\n",
              "    .colab-df-convert:hover {\n",
              "      background-color: #E2EBFA;\n",
              "      box-shadow: 0px 1px 2px rgba(60, 64, 67, 0.3), 0px 1px 3px 1px rgba(60, 64, 67, 0.15);\n",
              "      fill: #174EA6;\n",
              "    }\n",
              "\n",
              "    .colab-df-buttons div {\n",
              "      margin-bottom: 4px;\n",
              "    }\n",
              "\n",
              "    [theme=dark] .colab-df-convert {\n",
              "      background-color: #3B4455;\n",
              "      fill: #D2E3FC;\n",
              "    }\n",
              "\n",
              "    [theme=dark] .colab-df-convert:hover {\n",
              "      background-color: #434B5C;\n",
              "      box-shadow: 0px 1px 3px 1px rgba(0, 0, 0, 0.15);\n",
              "      filter: drop-shadow(0px 1px 2px rgba(0, 0, 0, 0.3));\n",
              "      fill: #FFFFFF;\n",
              "    }\n",
              "  </style>\n",
              "\n",
              "    <script>\n",
              "      const buttonEl =\n",
              "        document.querySelector('#df-f6f72332-450a-4962-a418-7da23b809f40 button.colab-df-convert');\n",
              "      buttonEl.style.display =\n",
              "        google.colab.kernel.accessAllowed ? 'block' : 'none';\n",
              "\n",
              "      async function convertToInteractive(key) {\n",
              "        const element = document.querySelector('#df-f6f72332-450a-4962-a418-7da23b809f40');\n",
              "        const dataTable =\n",
              "          await google.colab.kernel.invokeFunction('convertToInteractive',\n",
              "                                                    [key], {});\n",
              "        if (!dataTable) return;\n",
              "\n",
              "        const docLinkHtml = 'Like what you see? Visit the ' +\n",
              "          '<a target=\"_blank\" href=https://colab.research.google.com/notebooks/data_table.ipynb>data table notebook</a>'\n",
              "          + ' to learn more about interactive tables.';\n",
              "        element.innerHTML = '';\n",
              "        dataTable['output_type'] = 'display_data';\n",
              "        await google.colab.output.renderOutput(dataTable, element);\n",
              "        const docLink = document.createElement('div');\n",
              "        docLink.innerHTML = docLinkHtml;\n",
              "        element.appendChild(docLink);\n",
              "      }\n",
              "    </script>\n",
              "  </div>\n",
              "\n",
              "\n",
              "    <div id=\"df-dd13c44d-e4b4-4a80-8207-6b9302f527e4\">\n",
              "      <button class=\"colab-df-quickchart\" onclick=\"quickchart('df-dd13c44d-e4b4-4a80-8207-6b9302f527e4')\"\n",
              "                title=\"Suggest charts\"\n",
              "                style=\"display:none;\">\n",
              "\n",
              "<svg xmlns=\"http://www.w3.org/2000/svg\" height=\"24px\"viewBox=\"0 0 24 24\"\n",
              "     width=\"24px\">\n",
              "    <g>\n",
              "        <path d=\"M19 3H5c-1.1 0-2 .9-2 2v14c0 1.1.9 2 2 2h14c1.1 0 2-.9 2-2V5c0-1.1-.9-2-2-2zM9 17H7v-7h2v7zm4 0h-2V7h2v10zm4 0h-2v-4h2v4z\"/>\n",
              "    </g>\n",
              "</svg>\n",
              "      </button>\n",
              "\n",
              "<style>\n",
              "  .colab-df-quickchart {\n",
              "      --bg-color: #E8F0FE;\n",
              "      --fill-color: #1967D2;\n",
              "      --hover-bg-color: #E2EBFA;\n",
              "      --hover-fill-color: #174EA6;\n",
              "      --disabled-fill-color: #AAA;\n",
              "      --disabled-bg-color: #DDD;\n",
              "  }\n",
              "\n",
              "  [theme=dark] .colab-df-quickchart {\n",
              "      --bg-color: #3B4455;\n",
              "      --fill-color: #D2E3FC;\n",
              "      --hover-bg-color: #434B5C;\n",
              "      --hover-fill-color: #FFFFFF;\n",
              "      --disabled-bg-color: #3B4455;\n",
              "      --disabled-fill-color: #666;\n",
              "  }\n",
              "\n",
              "  .colab-df-quickchart {\n",
              "    background-color: var(--bg-color);\n",
              "    border: none;\n",
              "    border-radius: 50%;\n",
              "    cursor: pointer;\n",
              "    display: none;\n",
              "    fill: var(--fill-color);\n",
              "    height: 32px;\n",
              "    padding: 0;\n",
              "    width: 32px;\n",
              "  }\n",
              "\n",
              "  .colab-df-quickchart:hover {\n",
              "    background-color: var(--hover-bg-color);\n",
              "    box-shadow: 0 1px 2px rgba(60, 64, 67, 0.3), 0 1px 3px 1px rgba(60, 64, 67, 0.15);\n",
              "    fill: var(--button-hover-fill-color);\n",
              "  }\n",
              "\n",
              "  .colab-df-quickchart-complete:disabled,\n",
              "  .colab-df-quickchart-complete:disabled:hover {\n",
              "    background-color: var(--disabled-bg-color);\n",
              "    fill: var(--disabled-fill-color);\n",
              "    box-shadow: none;\n",
              "  }\n",
              "\n",
              "  .colab-df-spinner {\n",
              "    border: 2px solid var(--fill-color);\n",
              "    border-color: transparent;\n",
              "    border-bottom-color: var(--fill-color);\n",
              "    animation:\n",
              "      spin 1s steps(1) infinite;\n",
              "  }\n",
              "\n",
              "  @keyframes spin {\n",
              "    0% {\n",
              "      border-color: transparent;\n",
              "      border-bottom-color: var(--fill-color);\n",
              "      border-left-color: var(--fill-color);\n",
              "    }\n",
              "    20% {\n",
              "      border-color: transparent;\n",
              "      border-left-color: var(--fill-color);\n",
              "      border-top-color: var(--fill-color);\n",
              "    }\n",
              "    30% {\n",
              "      border-color: transparent;\n",
              "      border-left-color: var(--fill-color);\n",
              "      border-top-color: var(--fill-color);\n",
              "      border-right-color: var(--fill-color);\n",
              "    }\n",
              "    40% {\n",
              "      border-color: transparent;\n",
              "      border-right-color: var(--fill-color);\n",
              "      border-top-color: var(--fill-color);\n",
              "    }\n",
              "    60% {\n",
              "      border-color: transparent;\n",
              "      border-right-color: var(--fill-color);\n",
              "    }\n",
              "    80% {\n",
              "      border-color: transparent;\n",
              "      border-right-color: var(--fill-color);\n",
              "      border-bottom-color: var(--fill-color);\n",
              "    }\n",
              "    90% {\n",
              "      border-color: transparent;\n",
              "      border-bottom-color: var(--fill-color);\n",
              "    }\n",
              "  }\n",
              "</style>\n",
              "\n",
              "      <script>\n",
              "        async function quickchart(key) {\n",
              "          const quickchartButtonEl =\n",
              "            document.querySelector('#' + key + ' button');\n",
              "          quickchartButtonEl.disabled = true;  // To prevent multiple clicks.\n",
              "          quickchartButtonEl.classList.add('colab-df-spinner');\n",
              "          try {\n",
              "            const charts = await google.colab.kernel.invokeFunction(\n",
              "                'suggestCharts', [key], {});\n",
              "          } catch (error) {\n",
              "            console.error('Error during call to suggestCharts:', error);\n",
              "          }\n",
              "          quickchartButtonEl.classList.remove('colab-df-spinner');\n",
              "          quickchartButtonEl.classList.add('colab-df-quickchart-complete');\n",
              "        }\n",
              "        (() => {\n",
              "          let quickchartButtonEl =\n",
              "            document.querySelector('#df-dd13c44d-e4b4-4a80-8207-6b9302f527e4 button');\n",
              "          quickchartButtonEl.style.display =\n",
              "            google.colab.kernel.accessAllowed ? 'block' : 'none';\n",
              "        })();\n",
              "      </script>\n",
              "    </div>\n",
              "\n",
              "    </div>\n",
              "  </div>\n"
            ],
            "application/vnd.google.colaboratory.intrinsic+json": {
              "type": "dataframe",
              "variable_name": "df_main",
              "summary": "{\n  \"name\": \"df_main\",\n  \"rows\": 9896,\n  \"fields\": [\n    {\n      \"column\": \"InstanceID\",\n      \"properties\": {\n        \"dtype\": \"number\",\n        \"std\": 6652,\n        \"min\": 1,\n        \"max\": 22444,\n        \"num_unique_values\": 9896,\n        \"samples\": [\n          1045,\n          19809,\n          370\n        ],\n        \"semantic_type\": \"\",\n        \"description\": \"\"\n      }\n    },\n    {\n      \"column\": \"patientID\",\n      \"properties\": {\n        \"dtype\": \"number\",\n        \"std\": 17,\n        \"min\": 1,\n        \"max\": 60,\n        \"num_unique_values\": 60,\n        \"samples\": [\n          1,\n          6,\n          37\n        ],\n        \"semantic_type\": \"\",\n        \"description\": \"\"\n      }\n    },\n    {\n      \"column\": \"ImageName\",\n      \"properties\": {\n        \"dtype\": \"string\",\n        \"num_unique_values\": 9896,\n        \"samples\": [\n          \"1045.png\",\n          \"19809.png\",\n          \"370.png\"\n        ],\n        \"semantic_type\": \"\",\n        \"description\": \"\"\n      }\n    },\n    {\n      \"column\": \"cellTypeName\",\n      \"properties\": {\n        \"dtype\": \"category\",\n        \"num_unique_values\": 4,\n        \"samples\": [\n          \"inflammatory\",\n          \"epithelial\",\n          \"fibroblast\"\n        ],\n        \"semantic_type\": \"\",\n        \"description\": \"\"\n      }\n    },\n    {\n      \"column\": \"cellType\",\n      \"properties\": {\n        \"dtype\": \"number\",\n        \"std\": 0,\n        \"min\": 0,\n        \"max\": 3,\n        \"num_unique_values\": 4,\n        \"samples\": [\n          1,\n          2,\n          0\n        ],\n        \"semantic_type\": \"\",\n        \"description\": \"\"\n      }\n    },\n    {\n      \"column\": \"isCancerous\",\n      \"properties\": {\n        \"dtype\": \"number\",\n        \"std\": 0,\n        \"min\": 0,\n        \"max\": 1,\n        \"num_unique_values\": 2,\n        \"samples\": [\n          1,\n          0\n        ],\n        \"semantic_type\": \"\",\n        \"description\": \"\"\n      }\n    }\n  ]\n}"
            }
          },
          "metadata": {},
          "execution_count": 3
        }
      ]
    },
    {
      "cell_type": "markdown",
      "source": [
        "### Class Imbalance Identification"
      ],
      "metadata": {
        "id": "D_EWnrh5lh7x"
      }
    },
    {
      "cell_type": "code",
      "source": [
        "#--------- Check class imbalance in cellTypeName -------------\n",
        "class_counts_named = df_main['cellTypeName'].value_counts()\n",
        "print(\"Class distribution (by name):\")\n",
        "print(class_counts_named)\n",
        "\n",
        "# Calculate percentage of each unique cell type\n",
        "data = {'cellTypeName': ['epithelial'] * 4079 + ['inflammatory'] * 2543 + ['fibroblast'] * 1888 + ['others'] * 1386}\n",
        "df_temp = pd.DataFrame(data)\n",
        "\n",
        "class_percentages_named = df_temp['cellTypeName'].value_counts(normalize=True) * 100\n",
        "print(\"Class distribution (by percentage):\")\n",
        "print(class_percentages_named.round(2))"
      ],
      "metadata": {
        "id": "pOTj_cm8PYOu",
        "colab": {
          "base_uri": "https://localhost:8080/"
        },
        "outputId": "0dd7b4be-c0f0-43f4-d004-e1b5c5b03fd5"
      },
      "execution_count": null,
      "outputs": [
        {
          "output_type": "stream",
          "name": "stdout",
          "text": [
            "Class distribution (by name):\n",
            "cellTypeName\n",
            "epithelial      4079\n",
            "inflammatory    2543\n",
            "fibroblast      1888\n",
            "others          1386\n",
            "Name: count, dtype: int64\n",
            "Class distribution (by percentage):\n",
            "cellTypeName\n",
            "epithelial      41.22\n",
            "inflammatory    25.70\n",
            "fibroblast      19.08\n",
            "others          14.01\n",
            "Name: proportion, dtype: float64\n"
          ]
        }
      ]
    },
    {
      "cell_type": "markdown",
      "source": [
        "Based on the numbers and percentages, we can identify a class imbalance present in the CellTypeName distribution. We can see that the proportion of each cell is not equal with the epithelial cell being the most frequent.\n",
        "\n",
        "**Implication:**\n",
        "\n",
        "\n",
        "1.   The Machine Learning model that we will train might be biased towards the epithelial cell type because it appears the most frequent. The ML model might predict this class more often than the others and it might not identify cell type right.\n",
        "2.   The model might also struggle to learn characteristics of the minority classes such as 'Fibroblast' due to limited image examples during the training which can lead to low classification scores.\n",
        "\n",
        "\n"
      ],
      "metadata": {
        "id": "PMjx-lLQoYhH"
      }
    },
    {
      "cell_type": "code",
      "source": [
        "#--------- Check class imbalance in isCancerous -------------\n",
        "print(\"Main Data - isCancerous distribution:\")\n",
        "print(df_main['isCancerous'].value_counts())\n",
        "\n",
        "# Calculate percentage of isCancerous\n",
        "main_data = {'isCancerous': [0] * 5817 + [1] * 4079}\n",
        "df_main_temp = pd.DataFrame(main_data)\n",
        "\n",
        "main_percentages = df_main_temp['isCancerous'].value_counts(normalize=True) * 100\n",
        "print(\"Main Data - isCancerous distribution (by percentage):\")\n",
        "print(main_percentages.round(2))\n",
        "\n",
        "#--------- Check class imbalance in isCancerous - extra Data -------------\n",
        "print(\"Extra Data - isCancerous distribution:\")\n",
        "print(df_extra['isCancerous'].value_counts())\n",
        "\n",
        "# Calculate percentage of isCancerous - extra Data\n",
        "class_percentages_extra = df_extra['isCancerous'].value_counts(normalize=True) * 100\n",
        "print(\"\\nExtra Data - isCancerous distribution (by percentage):\")\n",
        "print(class_percentages_extra.round(2))"
      ],
      "metadata": {
        "colab": {
          "base_uri": "https://localhost:8080/"
        },
        "id": "pjouWq8LnSWA",
        "outputId": "b95b0b27-ba7b-44c8-e41c-a139e5e836ad"
      },
      "execution_count": null,
      "outputs": [
        {
          "output_type": "stream",
          "name": "stdout",
          "text": [
            "Main Data - isCancerous distribution:\n",
            "isCancerous\n",
            "0    5817\n",
            "1    4079\n",
            "Name: count, dtype: int64\n",
            "Main Data - isCancerous distribution (by percentage):\n",
            "isCancerous\n",
            "0    58.78\n",
            "1    41.22\n",
            "Name: proportion, dtype: float64\n",
            "Extra Data - isCancerous distribution:\n",
            "isCancerous\n",
            "0    7394\n",
            "1    2990\n",
            "Name: count, dtype: int64\n",
            "\n",
            "Extra Data - isCancerous distribution (by percentage):\n",
            "isCancerous\n",
            "0    71.21\n",
            "1    28.79\n",
            "Name: proportion, dtype: float64\n"
          ]
        }
      ]
    },
    {
      "cell_type": "markdown",
      "source": [
        "Not a drastic change in class imbalance for the main data but for the extra data shows a more significant class imbalance, the non-cancerous class has a larger representation than the cancerous class."
      ],
      "metadata": {
        "id": "sT3GBgqWov9k"
      }
    },
    {
      "cell_type": "code",
      "source": [
        "#--------- Check class imbalance in cellType -------------\n",
        "class_counts = df_main['cellType'].value_counts().sort_index()\n",
        "print(\"Class distribution (by numeric label):\")\n",
        "print(class_counts)\n",
        "\n",
        "# Calculate percentage of cellType\n",
        "data_numeric = {'cellType': [0] * 1888 + [1] * 2543 + [2] * 4079 + [3] * 1386}\n",
        "df_numeric = pd.DataFrame(data_numeric)\n",
        "\n",
        "class_percentages_numeric = df_numeric['cellType'].value_counts(normalize=True) * 100\n",
        "print(\"Class distribution (by percentage):\")\n",
        "print(class_percentages_numeric.round(2).sort_index())"
      ],
      "metadata": {
        "colab": {
          "base_uri": "https://localhost:8080/"
        },
        "id": "WkgDaEMXPkAZ",
        "outputId": "55e71b3d-8d95-4e89-cfc3-96b1edd3f208"
      },
      "execution_count": null,
      "outputs": [
        {
          "output_type": "stream",
          "name": "stdout",
          "text": [
            "Class distribution (by numeric label):\n",
            "cellType\n",
            "0    1888\n",
            "1    2543\n",
            "2    4079\n",
            "3    1386\n",
            "Name: count, dtype: int64\n",
            "Class distribution (by percentage):\n",
            "cellType\n",
            "0    19.08\n",
            "1    25.70\n",
            "2    41.22\n",
            "3    14.01\n",
            "Name: proportion, dtype: float64\n"
          ]
        }
      ]
    },
    {
      "cell_type": "markdown",
      "source": [
        "*There*'s a noticeable class imbalance in the cellType distribution. Class 2 is almost 3 times larger than the Class 3.\n",
        "\n",
        "#TODO please justify that the class imbalance graphs can be seen in the EDA plots"
      ],
      "metadata": {
        "id": "I2wOfsBJp9eO"
      }
    },
    {
      "cell_type": "markdown",
      "source": [
        "### Exploratory Data Analysis (EDA)\n",
        "Some cells of code in this section have been retrieved from the Week 6 Lab and have been adapted to fit this task."
      ],
      "metadata": {
        "id": "OdIcl8J2S3kn"
      }
    },
    {
      "cell_type": "code",
      "source": [
        "#--------- Initial exploration into dataframe -------------\n",
        "df_main.info()\n",
        "df_main.describe()\n",
        "\n",
        "#checking for missing vals\n",
        "df_main.isnull().sum() #no missing labels in any cols"
      ],
      "metadata": {
        "id": "1a-EZHTATDD8",
        "colab": {
          "base_uri": "https://localhost:8080/",
          "height": 497
        },
        "outputId": "67117228-c08a-4528-907c-ef88441972d7"
      },
      "execution_count": null,
      "outputs": [
        {
          "output_type": "stream",
          "name": "stdout",
          "text": [
            "<class 'pandas.core.frame.DataFrame'>\n",
            "RangeIndex: 9896 entries, 0 to 9895\n",
            "Data columns (total 6 columns):\n",
            " #   Column        Non-Null Count  Dtype \n",
            "---  ------        --------------  ----- \n",
            " 0   InstanceID    9896 non-null   int64 \n",
            " 1   patientID     9896 non-null   int64 \n",
            " 2   ImageName     9896 non-null   object\n",
            " 3   cellTypeName  9896 non-null   object\n",
            " 4   cellType      9896 non-null   int64 \n",
            " 5   isCancerous   9896 non-null   int64 \n",
            "dtypes: int64(4), object(2)\n",
            "memory usage: 464.0+ KB\n"
          ]
        },
        {
          "output_type": "execute_result",
          "data": {
            "text/plain": [
              "InstanceID      0\n",
              "patientID       0\n",
              "ImageName       0\n",
              "cellTypeName    0\n",
              "cellType        0\n",
              "isCancerous     0\n",
              "dtype: int64"
            ],
            "text/html": [
              "<div>\n",
              "<style scoped>\n",
              "    .dataframe tbody tr th:only-of-type {\n",
              "        vertical-align: middle;\n",
              "    }\n",
              "\n",
              "    .dataframe tbody tr th {\n",
              "        vertical-align: top;\n",
              "    }\n",
              "\n",
              "    .dataframe thead th {\n",
              "        text-align: right;\n",
              "    }\n",
              "</style>\n",
              "<table border=\"1\" class=\"dataframe\">\n",
              "  <thead>\n",
              "    <tr style=\"text-align: right;\">\n",
              "      <th></th>\n",
              "      <th>0</th>\n",
              "    </tr>\n",
              "  </thead>\n",
              "  <tbody>\n",
              "    <tr>\n",
              "      <th>InstanceID</th>\n",
              "      <td>0</td>\n",
              "    </tr>\n",
              "    <tr>\n",
              "      <th>patientID</th>\n",
              "      <td>0</td>\n",
              "    </tr>\n",
              "    <tr>\n",
              "      <th>ImageName</th>\n",
              "      <td>0</td>\n",
              "    </tr>\n",
              "    <tr>\n",
              "      <th>cellTypeName</th>\n",
              "      <td>0</td>\n",
              "    </tr>\n",
              "    <tr>\n",
              "      <th>cellType</th>\n",
              "      <td>0</td>\n",
              "    </tr>\n",
              "    <tr>\n",
              "      <th>isCancerous</th>\n",
              "      <td>0</td>\n",
              "    </tr>\n",
              "  </tbody>\n",
              "</table>\n",
              "</div><br><label><b>dtype:</b> int64</label>"
            ]
          },
          "metadata": {},
          "execution_count": 7
        }
      ]
    },
    {
      "cell_type": "code",
      "source": [
        "#-------- Target variables class distributions ----------\n",
        "df_main['cellTypeName'].value_counts()\n",
        "df_main['isCancerous'].value_counts()\n",
        "\n",
        "#plotting distributions\n",
        "import seaborn as sns\n",
        "import matplotlib.pyplot as plt\n",
        "\n",
        "plt.figure(figsize=(6, 4))\n",
        "sns.countplot(data=df_main, x='cellTypeName')\n",
        "plt.xlabel('Cell Types')\n",
        "plt.ylabel('Count of Images')\n",
        "plt.title('Cell Type Class Distribution')\n",
        "plt.show()\n",
        "\n",
        "plt.figure(figsize=(6, 4))\n",
        "sns.countplot(data=df_main, x='isCancerous')\n",
        "plt.xlabel('Is Cancerous (0 = No, 1 = Yes)')\n",
        "plt.ylabel('Count of Images')\n",
        "plt.title('Cancerous vs Non-Cancerous Class Distribution')\n",
        "plt.show()"
      ],
      "metadata": {
        "colab": {
          "base_uri": "https://localhost:8080/",
          "height": 803
        },
        "id": "x_617jYoUB2f",
        "outputId": "4a84c307-2f99-47a4-cf9c-6cea207d5cc7"
      },
      "execution_count": null,
      "outputs": [
        {
          "output_type": "display_data",
          "data": {
            "text/plain": [
              "<Figure size 600x400 with 1 Axes>"
            ],
            "image/png": "[encoded data removed]"
          },
          "metadata": {}
        },
        {
          "output_type": "display_data",
          "data": {
            "text/plain": [
              "<Figure size 600x400 with 1 Axes>"
            ],
            "image/png": "[encoded data removed]"
          },
          "metadata": {}
        }
      ]
    },
    {
      "cell_type": "code",
      "source": [
        "# ------------- Displaying sample images --------------\n",
        "import os\n",
        "from PIL import Image\n",
        "\n",
        "image_dir = '/content/data/patch_images/'\n",
        "\n",
        "#grabbing 5 sample images\n",
        "sample_images = df_main.sample(5)\n",
        "\n",
        "#displaying sample images\n",
        "f, axarr = plt.subplots(1, 5, figsize=(10, 5))\n",
        "for i, (_, row) in enumerate(sample_images.iterrows()):\n",
        "    img_path = os.path.join(image_dir, row['ImageName']) #accessing images from patch_images folder/dir\n",
        "    img = Image.open(img_path)\n",
        "    axarr[i].imshow(img)\n",
        "    axarr[i].axis('off')\n",
        "    axarr[i].set_title(row['cellTypeName'])  #display cell type names\n",
        "plt.show()\n",
        "\n",
        "f, axarr = plt.subplots(1, 5, figsize=(10, 5))\n",
        "for i, (_, row) in enumerate(sample_images.iterrows()):\n",
        "    img_path = os.path.join(image_dir, row['ImageName']) #accessing images from patch_images folder/dir\n",
        "    img = Image.open(img_path)\n",
        "    axarr[i].imshow(img)\n",
        "    axarr[i].axis('off')\n",
        "    cancer_identification = \"Cancerous (1)\" if row['isCancerous'] == 1 else \"Not Cancerous (0)\" #renaming label 1 or 0 to Cancerous or Not Cancerous\n",
        "    axarr[i].set_title(cancer_identification)  #display isCancerous or Not\n",
        "plt.show()\n"
      ],
      "metadata": {
        "colab": {
          "base_uri": "https://localhost:8080/",
          "height": 367
        },
        "id": "CapUNdk9UECE",
        "outputId": "7358ef8e-d2fe-45fe-e293-f809f15ab9b7"
      },
      "execution_count": null,
      "outputs": [
        {
          "output_type": "display_data",
          "data": {
            "text/plain": [
              "<Figure size 1000x500 with 5 Axes>"
            ],
            "image/png": "[encoded data removed]"
          },
          "metadata": {}
        },
        {
          "output_type": "display_data",
          "data": {
            "text/plain": [
              "<Figure size 1000x500 with 5 Axes>"
            ],
            "image/png": "[encoded data removed]"
          },
          "metadata": {}
        }
      ]
    },
    {
      "cell_type": "code",
      "source": [
        "#----------- Checking image sizes --------------\n",
        "image_sizes = []\n",
        "\n",
        "#checking through each image\n",
        "for img_name in df_main['ImageName']:\n",
        "    img_path = os.path.join(image_dir, img_name)\n",
        "    try:\n",
        "        with Image.open(img_path) as img:\n",
        "            image_sizes.append(img.size)  #size of each image to list\n",
        "    except:\n",
        "        continue\n",
        "\n",
        "print(\"Image sizes:\")\n",
        "for size in sorted(set(image_sizes)):\n",
        "    print(size)"
      ],
      "metadata": {
        "colab": {
          "base_uri": "https://localhost:8080/"
        },
        "id": "BxmrIi5fUGsz",
        "outputId": "9fdd80ba-4082-4719-f6fc-4d5a2194f9ea"
      },
      "execution_count": null,
      "outputs": [
        {
          "output_type": "stream",
          "name": "stdout",
          "text": [
            "Image sizes:\n",
            "(27, 27)\n"
          ]
        }
      ]
    },
    {
      "cell_type": "markdown",
      "source": [
        "### Pre-processing of Data"
      ],
      "metadata": {
        "id": "GtbMHdl8S8G1"
      }
    },
    {
      "cell_type": "code",
      "source": [
        "import numpy as np\n",
        "import cv2\n",
        "from tensorflow.keras.models import Sequential\n",
        "from tensorflow.keras.layers import Dense, Dropout, Flatten\n",
        "from tensorflow.keras.utils import to_categorical\n",
        "from sklearn.model_selection import train_test_split\n",
        "\n",
        "# Add image path to DataFrame by creating a column to benefit adding images later\n",
        "df_main['ImagePath'] = df_main['ImageName'].apply(lambda x: os.path.join(image_dir, x))\n",
        "\n",
        "# Convert labels into one-hot encoded formats\n",
        "y_isCancerous = to_categorical(df_main['isCancerous'].values, num_classes=2)\n",
        "# Converted cell type labels to one-hot encoded formats 0,1,2,3\n",
        "y_cellType = to_categorical(df_main['cellType'].values, num_classes=4)"
      ],
      "metadata": {
        "id": "JtJv1ZmCTBwP"
      },
      "execution_count": null,
      "outputs": []
    },
    {
      "cell_type": "markdown",
      "source": [
        "##### Split into training, validation and test set"
      ],
      "metadata": {
        "id": "qDec1RtdcYcR"
      }
    },
    {
      "cell_type": "code",
      "source": [
        "\n",
        "\n",
        "# First Split - splitting into 80% for initial training X_train, and 20% test\n",
        "# y_isCancerous into y1_train, y1_val, and y1_test @Isabella\n",
        "# y_cellType into y2_train, y2_val, and y2_test @Joelle\n",
        "# Split is based on isCancerous column to ensure the proportion of cancerous and non-cancerous samples is roughly the same in test and train sets. (Beneficial for potential class imbalance)\n",
        "X_train, X_test, y1_train, y1_test, y2_train, y2_test = train_test_split(\n",
        "    df_main['ImagePath'].values, y_isCancerous, y_cellType,\n",
        "    test_size=0.2, stratify=df_main['isCancerous'], random_state=42\n",
        ")\n",
        "\n",
        "# Second Split - splitting the 80% further to 60% for training and the validation set to 20%\n",
        "# Stratifying the split based on isCancerous labels in the training set to convert the one-hot encoded to its original 0 or 1 label. To ensure the validation set also has a good portion of the isCancerous classes.\n",
        "X_train, X_val, y1_train, y1_val, y2_train, y2_val = train_test_split(\n",
        "    X_train, y1_train, y2_train,\n",
        "    test_size=0.25, stratify=np.argmax(y1_train, axis=1), random_state=42\n",
        ")"
      ],
      "metadata": {
        "id": "2WbPw-YScPnA"
      },
      "execution_count": null,
      "outputs": []
    },
    {
      "cell_type": "markdown",
      "source": [
        "##### Image loader with normalization"
      ],
      "metadata": {
        "id": "4jkYwcIBcjjH"
      }
    },
    {
      "cell_type": "code",
      "source": [
        "def load_images(image_paths, target_size=(27, 27)):\n",
        "    images = []\n",
        "    for path in image_paths:\n",
        "        img = cv2.imread(path)\n",
        "        if img is None:\n",
        "            continue\n",
        "        img = cv2.resize(img, target_size)\n",
        "        img = img.astype('float32') / 255.0  # normalize to [0, 1]\n",
        "        images.append(img)\n",
        "    return np.array(images)"
      ],
      "metadata": {
        "id": "4roLh5GfcR3M"
      },
      "execution_count": null,
      "outputs": []
    },
    {
      "cell_type": "markdown",
      "source": [
        "#### Print train, validation and test shapes"
      ],
      "metadata": {
        "id": "K6KRbmqXcqST"
      }
    },
    {
      "cell_type": "code",
      "source": [
        "# Load image arrays\n",
        "x_train = load_images(X_train) # 72 % of the original data\n",
        "x_val = load_images(X_val) # 8% of the original data\n",
        "x_test = load_images(X_test) # 20% of the original data\n",
        "\n",
        "# Confirm shapes\n",
        "print(\"x_train shape:\", x_train.shape)\n",
        "print(\"y1_train shape (isCancerous):\", y1_train.shape)\n",
        "print(\"y2_train shape (cellType):\", y2_train.shape)"
      ],
      "metadata": {
        "id": "21lIbfRVcTNt",
        "outputId": "31720193-cfde-48b3-beeb-effb49dbfe49",
        "colab": {
          "base_uri": "https://localhost:8080/"
        }
      },
      "execution_count": null,
      "outputs": [
        {
          "output_type": "stream",
          "name": "stdout",
          "text": [
            "x_train shape: (7124, 27, 27, 3)\n",
            "y1_train shape (isCancerous): (7124, 2)\n",
            "y2_train shape (cellType): (7124, 4)\n"
          ]
        }
      ]
    },
    {
      "cell_type": "markdown",
      "source": [
        "7124 samples in the training set\n",
        "27x27 height and width of each image\n",
        "3 RGB colours because the colour isnt grayscaled. The shapes are consistent after normalising to prepare for the classification tasks.\n",
        "\n",
        "The following are ready for model training:\n",
        "\n",
        "*   isCancerous prediction - y1_train\n",
        "*   cellType prediction - y2_train\n",
        "*   validation models - x_val, y1_val, y2_val\n",
        "*   final evaluation - x_tests, y1_test, y2_test  \n"
      ],
      "metadata": {
        "id": "el6EZpq-bUhR"
      }
    },
    {
      "cell_type": "markdown",
      "source": [
        "### Task 1: Classifying Cancerous Cell or Not\n",
        "**Author: Isabella**"
      ],
      "metadata": {
        "id": "Fhk9J99rTDzJ"
      }
    },
    {
      "cell_type": "markdown",
      "source": [
        "#### Model Building (Baseline)"
      ],
      "metadata": {
        "id": "Cv8q3IIwUHUf"
      }
    },
    {
      "cell_type": "code",
      "source": [],
      "metadata": {
        "id": "JHnsbsNzTzJ2"
      },
      "execution_count": null,
      "outputs": []
    },
    {
      "cell_type": "markdown",
      "source": [
        "#### Model Training (Parameter Tuning)"
      ],
      "metadata": {
        "id": "5lPOt-eGULx0"
      }
    },
    {
      "cell_type": "code",
      "source": [],
      "metadata": {
        "id": "E0LjLm5zUSMk"
      },
      "execution_count": null,
      "outputs": []
    },
    {
      "cell_type": "markdown",
      "source": [
        "#### Evaluation"
      ],
      "metadata": {
        "id": "eM_02IagUS4J"
      }
    },
    {
      "cell_type": "code",
      "source": [],
      "metadata": {
        "id": "6y1X6kjgUVlc"
      },
      "execution_count": null,
      "outputs": []
    },
    {
      "cell_type": "markdown",
      "source": [
        "### Task 2: Classifying Cell Type\n",
        "**Author: Joelle**"
      ],
      "metadata": {
        "id": "vOAqA-dZT4NR"
      }
    },
    {
      "cell_type": "code",
      "source": [],
      "metadata": {
        "id": "8rsdJPhoT-hA"
      },
      "execution_count": null,
      "outputs": []
    },
    {
      "cell_type": "markdown",
      "source": [
        "#### Model Building (Baseline)"
      ],
      "metadata": {
        "id": "oxGA3FO7UFVq"
      }
    },
    {
      "cell_type": "code",
      "source": [],
      "metadata": {
        "id": "jKPc9sT2Ue-z"
      },
      "execution_count": null,
      "outputs": []
    },
    {
      "cell_type": "markdown",
      "source": [
        "#### Model Training (Parameter Tuning)"
      ],
      "metadata": {
        "id": "J-CLdG3HUfcy"
      }
    },
    {
      "cell_type": "code",
      "source": [],
      "metadata": {
        "id": "CNxoUL78UiOM"
      },
      "execution_count": null,
      "outputs": []
    },
    {
      "cell_type": "markdown",
      "source": [
        "#### Evaluation"
      ],
      "metadata": {
        "id": "VrmEhhymUivR"
      }
    },
    {
      "cell_type": "code",
      "source": [],
      "metadata": {
        "id": "GANQNsFAUoKg"
      },
      "execution_count": null,
      "outputs": []
    },
    {
      "cell_type": "markdown",
      "source": [
        "## Ultimate Judgement"
      ],
      "metadata": {
        "id": "o2g2EBuYUr_g"
      }
    },
    {
      "cell_type": "code",
      "source": [],
      "metadata": {
        "id": "FbZeRfrxUuAd"
      },
      "execution_count": null,
      "outputs": []
    },
    {
      "cell_type": "markdown",
      "source": [
        "## Conclusion"
      ],
      "metadata": {
        "id": "_RmAwCYIUua1"
      }
    },
    {
      "cell_type": "code",
      "source": [],
      "metadata": {
        "id": "n2u-49lwUvXL"
      },
      "execution_count": null,
      "outputs": []
    }
  ]
}