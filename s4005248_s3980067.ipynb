{
  "nbformat": 4,
  "nbformat_minor": 0,
  "metadata": {
    "colab": {
      "provenance": [],
      "gpuType": "T4",
      "include_colab_link": true
    },
    "kernelspec": {
      "name": "python3",
      "display_name": "Python 3"
    },
    "language_info": {
      "name": "python"
    },
    "accelerator": "GPU"
  },
  "cells": [
    {
      "cell_type": "markdown",
      "metadata": {
        "id": "view-in-github",
        "colab_type": "text"
      },
      "source": [
        "<a href=\"https://colab.research.google.com/github/iatra/COSC2673-Assignment2-Group9/blob/main/s4005248_s3980067.ipynb\" target=\"_parent\"><img src=\"https://colab.research.google.com/assets/colab-badge.svg\" alt=\"Open In Colab\"/></a>"
      ]
    },
    {
      "cell_type": "markdown",
      "source": [
        "# Machine Learning COSC2673-Assignment2-Group9\n",
        "Author : Joelle Lee Ming Yin (s3980067) & Isabella Tranquilino (s4005248)"
      ],
      "metadata": {
        "id": "yVIjtEiLGrRY"
      }
    },
    {
      "cell_type": "markdown",
      "source": [
        "## Approach"
      ],
      "metadata": {
        "id": "96hLAQl7SxJl"
      }
    },
    {
      "cell_type": "markdown",
      "source": [
        "### Load Dataset"
      ],
      "metadata": {
        "id": "vyR97aAjHjqN"
      }
    },
    {
      "cell_type": "code",
      "source": [
        "from google.colab import drive\n",
        "drive.mount('/content/drive')\n",
        "\n",
        "zip_path = '/content/drive/MyDrive/ML A2 Dataset/Image_classification_data.zip'\n",
        "\n",
        "import zipfile\n",
        "with zipfile.ZipFile(zip_path, 'r') as zip_ref:\n",
        "    zip_ref.extractall('/content/data')\n",
        "\n",
        "import os\n",
        "\n",
        "# List first few files/folders in the extraction folder\n",
        "extracted_path = '/content/data'\n",
        "for root, dirs, files in os.walk(extracted_path):\n",
        "    print(f\"Directory: {root}\")\n",
        "    for file in files[:5]:  # Show up to 5 files per directory\n",
        "        print(f\"  - {file}\")\n",
        "    break  # Remove this if you want to see all subfolders\n"
      ],
      "metadata": {
        "colab": {
          "base_uri": "https://localhost:8080/"
        },
        "id": "mombdUtTH8UG",
        "outputId": "e8b9221b-1aa6-415e-afd2-7530196bbfc1"
      },
      "execution_count": null,
      "outputs": [
        {
          "output_type": "stream",
          "name": "stdout",
          "text": [
            "Mounted at /content/drive\n",
            "Directory: /content/data\n",
            "  - data_labels_mainData.csv\n",
            "  - data_labels_extraData.csv\n"
          ]
        }
      ]
    },
    {
      "cell_type": "code",
      "source": [
        "import pandas as pd\n",
        "\n",
        "df_main = pd.read_csv('/content/data/data_labels_mainData.csv')\n",
        "df_extra = pd.read_csv('/content/data/data_labels_extraData.csv')\n",
        "\n",
        "df_main.head()"
      ],
      "metadata": {
        "id": "YSNMuuwYOQ7X",
        "colab": {
          "base_uri": "https://localhost:8080/",
          "height": 206
        },
        "outputId": "a8346d2b-de02-41d1-8252-72a3809d2607"
      },
      "execution_count": null,
      "outputs": [
        {
          "output_type": "execute_result",
          "data": {
            "text/plain": [
              "   InstanceID  patientID  ImageName cellTypeName  cellType  isCancerous\n",
              "0       22405          1  22405.png   fibroblast         0            0\n",
              "1       22406          1  22406.png   fibroblast         0            0\n",
              "2       22407          1  22407.png   fibroblast         0            0\n",
              "3       22408          1  22408.png   fibroblast         0            0\n",
              "4       22409          1  22409.png   fibroblast         0            0"
            ],
            "text/html": [
              "\n",
              "  <div id=\"df-90a23fca-9cd2-448f-9e9f-687b77e8d18f\" class=\"colab-df-container\">\n",
              "    <div>\n",
              "<style scoped>\n",
              "    .dataframe tbody tr th:only-of-type {\n",
              "        vertical-align: middle;\n",
              "    }\n",
              "\n",
              "    .dataframe tbody tr th {\n",
              "        vertical-align: top;\n",
              "    }\n",
              "\n",
              "    .dataframe thead th {\n",
              "        text-align: right;\n",
              "    }\n",
              "</style>\n",
              "<table border=\"1\" class=\"dataframe\">\n",
              "  <thead>\n",
              "    <tr style=\"text-align: right;\">\n",
              "      <th></th>\n",
              "      <th>InstanceID</th>\n",
              "      <th>patientID</th>\n",
              "      <th>ImageName</th>\n",
              "      <th>cellTypeName</th>\n",
              "      <th>cellType</th>\n",
              "      <th>isCancerous</th>\n",
              "    </tr>\n",
              "  </thead>\n",
              "  <tbody>\n",
              "    <tr>\n",
              "      <th>0</th>\n",
              "      <td>22405</td>\n",
              "      <td>1</td>\n",
              "      <td>22405.png</td>\n",
              "      <td>fibroblast</td>\n",
              "      <td>0</td>\n",
              "      <td>0</td>\n",
              "    </tr>\n",
              "    <tr>\n",
              "      <th>1</th>\n",
              "      <td>22406</td>\n",
              "      <td>1</td>\n",
              "      <td>22406.png</td>\n",
              "      <td>fibroblast</td>\n",
              "      <td>0</td>\n",
              "      <td>0</td>\n",
              "    </tr>\n",
              "    <tr>\n",
              "      <th>2</th>\n",
              "      <td>22407</td>\n",
              "      <td>1</td>\n",
              "      <td>22407.png</td>\n",
              "      <td>fibroblast</td>\n",
              "      <td>0</td>\n",
              "      <td>0</td>\n",
              "    </tr>\n",
              "    <tr>\n",
              "      <th>3</th>\n",
              "      <td>22408</td>\n",
              "      <td>1</td>\n",
              "      <td>22408.png</td>\n",
              "      <td>fibroblast</td>\n",
              "      <td>0</td>\n",
              "      <td>0</td>\n",
              "    </tr>\n",
              "    <tr>\n",
              "      <th>4</th>\n",
              "      <td>22409</td>\n",
              "      <td>1</td>\n",
              "      <td>22409.png</td>\n",
              "      <td>fibroblast</td>\n",
              "      <td>0</td>\n",
              "      <td>0</td>\n",
              "    </tr>\n",
              "  </tbody>\n",
              "</table>\n",
              "</div>\n",
              "    <div class=\"colab-df-buttons\">\n",
              "\n",
              "  <div class=\"colab-df-container\">\n",
              "    <button class=\"colab-df-convert\" onclick=\"convertToInteractive('df-90a23fca-9cd2-448f-9e9f-687b77e8d18f')\"\n",
              "            title=\"Convert this dataframe to an interactive table.\"\n",
              "            style=\"display:none;\">\n",
              "\n",
              "  <svg xmlns=\"http://www.w3.org/2000/svg\" height=\"24px\" viewBox=\"0 -960 960 960\">\n",
              "    <path d=\"M120-120v-720h720v720H120Zm60-500h600v-160H180v160Zm220 220h160v-160H400v160Zm0 220h160v-160H400v160ZM180-400h160v-160H180v160Zm440 0h160v-160H620v160ZM180-180h160v-160H180v160Zm440 0h160v-160H620v160Z\"/>\n",
              "  </svg>\n",
              "    </button>\n",
              "\n",
              "  <style>\n",
              "    .colab-df-container {\n",
              "      display:flex;\n",
              "      gap: 12px;\n",
              "    }\n",
              "\n",
              "    .colab-df-convert {\n",
              "      background-color: #E8F0FE;\n",
              "      border: none;\n",
              "      border-radius: 50%;\n",
              "      cursor: pointer;\n",
              "      display: none;\n",
              "      fill: #1967D2;\n",
              "      height: 32px;\n",
              "      padding: 0 0 0 0;\n",
              "      width: 32px;\n",
              "    }\n",
              "\n",
              "    .colab-df-convert:hover {\n",
              "      background-color: #E2EBFA;\n",
              "      box-shadow: 0px 1px 2px rgba(60, 64, 67, 0.3), 0px 1px 3px 1px rgba(60, 64, 67, 0.15);\n",
              "      fill: #174EA6;\n",
              "    }\n",
              "\n",
              "    .colab-df-buttons div {\n",
              "      margin-bottom: 4px;\n",
              "    }\n",
              "\n",
              "    [theme=dark] .colab-df-convert {\n",
              "      background-color: #3B4455;\n",
              "      fill: #D2E3FC;\n",
              "    }\n",
              "\n",
              "    [theme=dark] .colab-df-convert:hover {\n",
              "      background-color: #434B5C;\n",
              "      box-shadow: 0px 1px 3px 1px rgba(0, 0, 0, 0.15);\n",
              "      filter: drop-shadow(0px 1px 2px rgba(0, 0, 0, 0.3));\n",
              "      fill: #FFFFFF;\n",
              "    }\n",
              "  </style>\n",
              "\n",
              "    <script>\n",
              "      const buttonEl =\n",
              "        document.querySelector('#df-90a23fca-9cd2-448f-9e9f-687b77e8d18f button.colab-df-convert');\n",
              "      buttonEl.style.display =\n",
              "        google.colab.kernel.accessAllowed ? 'block' : 'none';\n",
              "\n",
              "      async function convertToInteractive(key) {\n",
              "        const element = document.querySelector('#df-90a23fca-9cd2-448f-9e9f-687b77e8d18f');\n",
              "        const dataTable =\n",
              "          await google.colab.kernel.invokeFunction('convertToInteractive',\n",
              "                                                    [key], {});\n",
              "        if (!dataTable) return;\n",
              "\n",
              "        const docLinkHtml = 'Like what you see? Visit the ' +\n",
              "          '<a target=\"_blank\" href=https://colab.research.google.com/notebooks/data_table.ipynb>data table notebook</a>'\n",
              "          + ' to learn more about interactive tables.';\n",
              "        element.innerHTML = '';\n",
              "        dataTable['output_type'] = 'display_data';\n",
              "        await google.colab.output.renderOutput(dataTable, element);\n",
              "        const docLink = document.createElement('div');\n",
              "        docLink.innerHTML = docLinkHtml;\n",
              "        element.appendChild(docLink);\n",
              "      }\n",
              "    </script>\n",
              "  </div>\n",
              "\n",
              "\n",
              "    <div id=\"df-37bd5742-b73a-4469-a4ff-68aaacbc5d09\">\n",
              "      <button class=\"colab-df-quickchart\" onclick=\"quickchart('df-37bd5742-b73a-4469-a4ff-68aaacbc5d09')\"\n",
              "                title=\"Suggest charts\"\n",
              "                style=\"display:none;\">\n",
              "\n",
              "<svg xmlns=\"http://www.w3.org/2000/svg\" height=\"24px\"viewBox=\"0 0 24 24\"\n",
              "     width=\"24px\">\n",
              "    <g>\n",
              "        <path d=\"M19 3H5c-1.1 0-2 .9-2 2v14c0 1.1.9 2 2 2h14c1.1 0 2-.9 2-2V5c0-1.1-.9-2-2-2zM9 17H7v-7h2v7zm4 0h-2V7h2v10zm4 0h-2v-4h2v4z\"/>\n",
              "    </g>\n",
              "</svg>\n",
              "      </button>\n",
              "\n",
              "<style>\n",
              "  .colab-df-quickchart {\n",
              "      --bg-color: #E8F0FE;\n",
              "      --fill-color: #1967D2;\n",
              "      --hover-bg-color: #E2EBFA;\n",
              "      --hover-fill-color: #174EA6;\n",
              "      --disabled-fill-color: #AAA;\n",
              "      --disabled-bg-color: #DDD;\n",
              "  }\n",
              "\n",
              "  [theme=dark] .colab-df-quickchart {\n",
              "      --bg-color: #3B4455;\n",
              "      --fill-color: #D2E3FC;\n",
              "      --hover-bg-color: #434B5C;\n",
              "      --hover-fill-color: #FFFFFF;\n",
              "      --disabled-bg-color: #3B4455;\n",
              "      --disabled-fill-color: #666;\n",
              "  }\n",
              "\n",
              "  .colab-df-quickchart {\n",
              "    background-color: var(--bg-color);\n",
              "    border: none;\n",
              "    border-radius: 50%;\n",
              "    cursor: pointer;\n",
              "    display: none;\n",
              "    fill: var(--fill-color);\n",
              "    height: 32px;\n",
              "    padding: 0;\n",
              "    width: 32px;\n",
              "  }\n",
              "\n",
              "  .colab-df-quickchart:hover {\n",
              "    background-color: var(--hover-bg-color);\n",
              "    box-shadow: 0 1px 2px rgba(60, 64, 67, 0.3), 0 1px 3px 1px rgba(60, 64, 67, 0.15);\n",
              "    fill: var(--button-hover-fill-color);\n",
              "  }\n",
              "\n",
              "  .colab-df-quickchart-complete:disabled,\n",
              "  .colab-df-quickchart-complete:disabled:hover {\n",
              "    background-color: var(--disabled-bg-color);\n",
              "    fill: var(--disabled-fill-color);\n",
              "    box-shadow: none;\n",
              "  }\n",
              "\n",
              "  .colab-df-spinner {\n",
              "    border: 2px solid var(--fill-color);\n",
              "    border-color: transparent;\n",
              "    border-bottom-color: var(--fill-color);\n",
              "    animation:\n",
              "      spin 1s steps(1) infinite;\n",
              "  }\n",
              "\n",
              "  @keyframes spin {\n",
              "    0% {\n",
              "      border-color: transparent;\n",
              "      border-bottom-color: var(--fill-color);\n",
              "      border-left-color: var(--fill-color);\n",
              "    }\n",
              "    20% {\n",
              "      border-color: transparent;\n",
              "      border-left-color: var(--fill-color);\n",
              "      border-top-color: var(--fill-color);\n",
              "    }\n",
              "    30% {\n",
              "      border-color: transparent;\n",
              "      border-left-color: var(--fill-color);\n",
              "      border-top-color: var(--fill-color);\n",
              "      border-right-color: var(--fill-color);\n",
              "    }\n",
              "    40% {\n",
              "      border-color: transparent;\n",
              "      border-right-color: var(--fill-color);\n",
              "      border-top-color: var(--fill-color);\n",
              "    }\n",
              "    60% {\n",
              "      border-color: transparent;\n",
              "      border-right-color: var(--fill-color);\n",
              "    }\n",
              "    80% {\n",
              "      border-color: transparent;\n",
              "      border-right-color: var(--fill-color);\n",
              "      border-bottom-color: var(--fill-color);\n",
              "    }\n",
              "    90% {\n",
              "      border-color: transparent;\n",
              "      border-bottom-color: var(--fill-color);\n",
              "    }\n",
              "  }\n",
              "</style>\n",
              "\n",
              "      <script>\n",
              "        async function quickchart(key) {\n",
              "          const quickchartButtonEl =\n",
              "            document.querySelector('#' + key + ' button');\n",
              "          quickchartButtonEl.disabled = true;  // To prevent multiple clicks.\n",
              "          quickchartButtonEl.classList.add('colab-df-spinner');\n",
              "          try {\n",
              "            const charts = await google.colab.kernel.invokeFunction(\n",
              "                'suggestCharts', [key], {});\n",
              "          } catch (error) {\n",
              "            console.error('Error during call to suggestCharts:', error);\n",
              "          }\n",
              "          quickchartButtonEl.classList.remove('colab-df-spinner');\n",
              "          quickchartButtonEl.classList.add('colab-df-quickchart-complete');\n",
              "        }\n",
              "        (() => {\n",
              "          let quickchartButtonEl =\n",
              "            document.querySelector('#df-37bd5742-b73a-4469-a4ff-68aaacbc5d09 button');\n",
              "          quickchartButtonEl.style.display =\n",
              "            google.colab.kernel.accessAllowed ? 'block' : 'none';\n",
              "        })();\n",
              "      </script>\n",
              "    </div>\n",
              "\n",
              "    </div>\n",
              "  </div>\n"
            ],
            "application/vnd.google.colaboratory.intrinsic+json": {
              "type": "dataframe",
              "variable_name": "df_main",
              "summary": "{\n  \"name\": \"df_main\",\n  \"rows\": 9896,\n  \"fields\": [\n    {\n      \"column\": \"InstanceID\",\n      \"properties\": {\n        \"dtype\": \"number\",\n        \"std\": 6652,\n        \"min\": 1,\n        \"max\": 22444,\n        \"num_unique_values\": 9896,\n        \"samples\": [\n          1045,\n          19809,\n          370\n        ],\n        \"semantic_type\": \"\",\n        \"description\": \"\"\n      }\n    },\n    {\n      \"column\": \"patientID\",\n      \"properties\": {\n        \"dtype\": \"number\",\n        \"std\": 17,\n        \"min\": 1,\n        \"max\": 60,\n        \"num_unique_values\": 60,\n        \"samples\": [\n          1,\n          6,\n          37\n        ],\n        \"semantic_type\": \"\",\n        \"description\": \"\"\n      }\n    },\n    {\n      \"column\": \"ImageName\",\n      \"properties\": {\n        \"dtype\": \"string\",\n        \"num_unique_values\": 9896,\n        \"samples\": [\n          \"1045.png\",\n          \"19809.png\",\n          \"370.png\"\n        ],\n        \"semantic_type\": \"\",\n        \"description\": \"\"\n      }\n    },\n    {\n      \"column\": \"cellTypeName\",\n      \"properties\": {\n        \"dtype\": \"category\",\n        \"num_unique_values\": 4,\n        \"samples\": [\n          \"inflammatory\",\n          \"epithelial\",\n          \"fibroblast\"\n        ],\n        \"semantic_type\": \"\",\n        \"description\": \"\"\n      }\n    },\n    {\n      \"column\": \"cellType\",\n      \"properties\": {\n        \"dtype\": \"number\",\n        \"std\": 0,\n        \"min\": 0,\n        \"max\": 3,\n        \"num_unique_values\": 4,\n        \"samples\": [\n          1,\n          2,\n          0\n        ],\n        \"semantic_type\": \"\",\n        \"description\": \"\"\n      }\n    },\n    {\n      \"column\": \"isCancerous\",\n      \"properties\": {\n        \"dtype\": \"number\",\n        \"std\": 0,\n        \"min\": 0,\n        \"max\": 1,\n        \"num_unique_values\": 2,\n        \"samples\": [\n          1,\n          0\n        ],\n        \"semantic_type\": \"\",\n        \"description\": \"\"\n      }\n    }\n  ]\n}"
            }
          },
          "metadata": {},
          "execution_count": 3
        }
      ]
    },
    {
      "cell_type": "markdown",
      "source": [
        "### Class Imbalance Identification"
      ],
      "metadata": {
        "id": "D_EWnrh5lh7x"
      }
    },
    {
      "cell_type": "code",
      "source": [
        "#--------- Check class imbalance in cellTypeName -------------\n",
        "class_counts_named = df_main['cellTypeName'].value_counts()\n",
        "print(\"Class distribution (by name):\")\n",
        "print(class_counts_named)\n",
        "\n",
        "# Calculate percentage of each unique cell type\n",
        "data = {'cellTypeName': ['epithelial'] * 4079 + ['inflammatory'] * 2543 + ['fibroblast'] * 1888 + ['others'] * 1386}\n",
        "df_temp = pd.DataFrame(data)\n",
        "\n",
        "class_percentages_named = df_temp['cellTypeName'].value_counts(normalize=True) * 100\n",
        "print(\"Class distribution (by percentage):\")\n",
        "print(class_percentages_named.round(2))"
      ],
      "metadata": {
        "id": "pOTj_cm8PYOu",
        "colab": {
          "base_uri": "https://localhost:8080/"
        },
        "outputId": "7485feb3-0d72-4033-8cac-11179e559800"
      },
      "execution_count": null,
      "outputs": [
        {
          "output_type": "stream",
          "name": "stdout",
          "text": [
            "Class distribution (by name):\n",
            "cellTypeName\n",
            "epithelial      4079\n",
            "inflammatory    2543\n",
            "fibroblast      1888\n",
            "others          1386\n",
            "Name: count, dtype: int64\n",
            "Class distribution (by percentage):\n",
            "cellTypeName\n",
            "epithelial      41.22\n",
            "inflammatory    25.70\n",
            "fibroblast      19.08\n",
            "others          14.01\n",
            "Name: proportion, dtype: float64\n"
          ]
        }
      ]
    },
    {
      "cell_type": "markdown",
      "source": [
        "Based on the numbers and percentages, we can identify a class imbalance present in the CellTypeName distribution. We can see that the proportion of each cell is not equal with the epithelial cell being the most frequent.\n",
        "\n",
        "**Implication:**\n",
        "\n",
        "\n",
        "1.   The Machine Learning model that we will train might be biased towards the epithelial cell type because it appears the most frequent. The ML model might predict this class more often than the others and it might not identify cell type right.\n",
        "2.   The model might also struggle to learn characteristics of the minority classes such as 'Fibroblast' due to limited image examples during the training which can lead to low classification scores.\n",
        "\n",
        "\n"
      ],
      "metadata": {
        "id": "PMjx-lLQoYhH"
      }
    },
    {
      "cell_type": "code",
      "source": [
        "#--------- Check class imbalance in isCancerous -------------\n",
        "print(\"Main Data - isCancerous distribution:\")\n",
        "print(df_main['isCancerous'].value_counts())\n",
        "\n",
        "# Calculate percentage of isCancerous\n",
        "main_data = {'isCancerous': [0] * 5817 + [1] * 4079}\n",
        "df_main_temp = pd.DataFrame(main_data)\n",
        "\n",
        "main_percentages = df_main_temp['isCancerous'].value_counts(normalize=True) * 100\n",
        "print(\"Main Data - isCancerous distribution (by percentage):\")\n",
        "print(main_percentages.round(2))\n",
        "\n",
        "#--------- Check class imbalance in isCancerous - extra Data -------------\n",
        "print(\"Extra Data - isCancerous distribution:\")\n",
        "print(df_extra['isCancerous'].value_counts())\n",
        "\n",
        "# Calculate percentage of isCancerous - extra Data\n",
        "class_percentages_extra = df_extra['isCancerous'].value_counts(normalize=True) * 100\n",
        "print(\"\\nExtra Data - isCancerous distribution (by percentage):\")\n",
        "print(class_percentages_extra.round(2))"
      ],
      "metadata": {
        "colab": {
          "base_uri": "https://localhost:8080/"
        },
        "id": "pjouWq8LnSWA",
        "outputId": "46ee4cd4-a65a-45de-97aa-abb5dccb7686"
      },
      "execution_count": null,
      "outputs": [
        {
          "output_type": "stream",
          "name": "stdout",
          "text": [
            "Main Data - isCancerous distribution:\n",
            "isCancerous\n",
            "0    5817\n",
            "1    4079\n",
            "Name: count, dtype: int64\n",
            "Main Data - isCancerous distribution (by percentage):\n",
            "isCancerous\n",
            "0    58.78\n",
            "1    41.22\n",
            "Name: proportion, dtype: float64\n",
            "Extra Data - isCancerous distribution:\n",
            "isCancerous\n",
            "0    7394\n",
            "1    2990\n",
            "Name: count, dtype: int64\n",
            "\n",
            "Extra Data - isCancerous distribution (by percentage):\n",
            "isCancerous\n",
            "0    71.21\n",
            "1    28.79\n",
            "Name: proportion, dtype: float64\n"
          ]
        }
      ]
    },
    {
      "cell_type": "markdown",
      "source": [
        "Not a drastic change in class imbalance for the main data but for the extra data shows a more significant class imbalance, the non-cancerous class has a larger representation than the cancerous class."
      ],
      "metadata": {
        "id": "sT3GBgqWov9k"
      }
    },
    {
      "cell_type": "code",
      "source": [
        "#--------- Check class imbalance in cellType -------------\n",
        "class_counts = df_main['cellType'].value_counts().sort_index()\n",
        "print(\"Class distribution (by numeric label):\")\n",
        "print(class_counts)\n",
        "\n",
        "# Calculate percentage of cellType\n",
        "data_numeric = {'cellType': [0] * 1888 + [1] * 2543 + [2] * 4079 + [3] * 1386}\n",
        "df_numeric = pd.DataFrame(data_numeric)\n",
        "\n",
        "class_percentages_numeric = df_numeric['cellType'].value_counts(normalize=True) * 100\n",
        "print(\"Class distribution (by percentage):\")\n",
        "print(class_percentages_numeric.round(2).sort_index())"
      ],
      "metadata": {
        "colab": {
          "base_uri": "https://localhost:8080/"
        },
        "id": "WkgDaEMXPkAZ",
        "outputId": "76a133df-0f71-412b-a3fb-561429cbbf53"
      },
      "execution_count": null,
      "outputs": [
        {
          "output_type": "stream",
          "name": "stdout",
          "text": [
            "Class distribution (by numeric label):\n",
            "cellType\n",
            "0    1888\n",
            "1    2543\n",
            "2    4079\n",
            "3    1386\n",
            "Name: count, dtype: int64\n",
            "Class distribution (by percentage):\n",
            "cellType\n",
            "0    19.08\n",
            "1    25.70\n",
            "2    41.22\n",
            "3    14.01\n",
            "Name: proportion, dtype: float64\n"
          ]
        }
      ]
    },
    {
      "cell_type": "markdown",
      "source": [
        "*There*'s a noticeable class imbalance in the cellType distribution. Class 2 is almost 3 times larger than the Class 3.\n",
        "\n",
        "#TODO please justify that the class imbalance graphs can be seen in the EDA plots"
      ],
      "metadata": {
        "id": "I2wOfsBJp9eO"
      }
    },
    {
      "cell_type": "markdown",
      "source": [
        "### Exploratory Data Analysis (EDA)\n",
        "Some cells of code in this section have been retrieved from the Week 6 Lab and have been adapted to fit this task."
      ],
      "metadata": {
        "id": "OdIcl8J2S3kn"
      }
    },
    {
      "cell_type": "code",
      "source": [
        "#--------- Initial exploration into dataframe -------------\n",
        "df_main.info()\n",
        "df_main.describe()\n",
        "\n",
        "#checking for missing vals\n",
        "df_main.isnull().sum() #no missing labels in any cols"
      ],
      "metadata": {
        "id": "1a-EZHTATDD8",
        "colab": {
          "base_uri": "https://localhost:8080/",
          "height": 497
        },
        "outputId": "7511f9b9-4fe6-470a-b715-f4595d9ec76c"
      },
      "execution_count": null,
      "outputs": [
        {
          "output_type": "stream",
          "name": "stdout",
          "text": [
            "<class 'pandas.core.frame.DataFrame'>\n",
            "RangeIndex: 9896 entries, 0 to 9895\n",
            "Data columns (total 6 columns):\n",
            " #   Column        Non-Null Count  Dtype \n",
            "---  ------        --------------  ----- \n",
            " 0   InstanceID    9896 non-null   int64 \n",
            " 1   patientID     9896 non-null   int64 \n",
            " 2   ImageName     9896 non-null   object\n",
            " 3   cellTypeName  9896 non-null   object\n",
            " 4   cellType      9896 non-null   int64 \n",
            " 5   isCancerous   9896 non-null   int64 \n",
            "dtypes: int64(4), object(2)\n",
            "memory usage: 464.0+ KB\n"
          ]
        },
        {
          "output_type": "execute_result",
          "data": {
            "text/plain": [
              "InstanceID      0\n",
              "patientID       0\n",
              "ImageName       0\n",
              "cellTypeName    0\n",
              "cellType        0\n",
              "isCancerous     0\n",
              "dtype: int64"
            ],
            "text/html": [
              "<div>\n",
              "<style scoped>\n",
              "    .dataframe tbody tr th:only-of-type {\n",
              "        vertical-align: middle;\n",
              "    }\n",
              "\n",
              "    .dataframe tbody tr th {\n",
              "        vertical-align: top;\n",
              "    }\n",
              "\n",
              "    .dataframe thead th {\n",
              "        text-align: right;\n",
              "    }\n",
              "</style>\n",
              "<table border=\"1\" class=\"dataframe\">\n",
              "  <thead>\n",
              "    <tr style=\"text-align: right;\">\n",
              "      <th></th>\n",
              "      <th>0</th>\n",
              "    </tr>\n",
              "  </thead>\n",
              "  <tbody>\n",
              "    <tr>\n",
              "      <th>InstanceID</th>\n",
              "      <td>0</td>\n",
              "    </tr>\n",
              "    <tr>\n",
              "      <th>patientID</th>\n",
              "      <td>0</td>\n",
              "    </tr>\n",
              "    <tr>\n",
              "      <th>ImageName</th>\n",
              "      <td>0</td>\n",
              "    </tr>\n",
              "    <tr>\n",
              "      <th>cellTypeName</th>\n",
              "      <td>0</td>\n",
              "    </tr>\n",
              "    <tr>\n",
              "      <th>cellType</th>\n",
              "      <td>0</td>\n",
              "    </tr>\n",
              "    <tr>\n",
              "      <th>isCancerous</th>\n",
              "      <td>0</td>\n",
              "    </tr>\n",
              "  </tbody>\n",
              "</table>\n",
              "</div><br><label><b>dtype:</b> int64</label>"
            ]
          },
          "metadata": {},
          "execution_count": 8
        }
      ]
    },
    {
      "cell_type": "code",
      "source": [
        "#-------- Target variables class distributions ----------\n",
        "df_main['cellTypeName'].value_counts()\n",
        "df_main['isCancerous'].value_counts()\n",
        "\n",
        "#plotting distributions\n",
        "import seaborn as sns\n",
        "import matplotlib.pyplot as plt\n",
        "\n",
        "plt.figure(figsize=(6, 4))\n",
        "sns.countplot(data=df_main, x='cellTypeName')\n",
        "plt.xlabel('Cell Types')\n",
        "plt.ylabel('Count of Images')\n",
        "plt.title('Cell Type Class Distribution')\n",
        "plt.show()\n",
        "\n",
        "plt.figure(figsize=(6, 4))\n",
        "sns.countplot(data=df_main, x='isCancerous')\n",
        "plt.xlabel('Is Cancerous (0 = No, 1 = Yes)')\n",
        "plt.ylabel('Count of Images')\n",
        "plt.title('Cancerous vs Non-Cancerous Class Distribution')\n",
        "plt.show()"
      ],
      "metadata": {
        "colab": {
          "base_uri": "https://localhost:8080/",
          "height": 803
        },
        "id": "x_617jYoUB2f",
        "outputId": "c959ad2d-739f-447c-dcb8-47581d3b1dfc"
      },
      "execution_count": null,
      "outputs": [
        {
          "output_type": "display_data",
          "data": {
            "text/plain": [
              "<Figure size 600x400 with 1 Axes>"
            ],
            "image/png": "[encoded data removed]"
          },
          "metadata": {}
        },
        {
          "output_type": "display_data",
          "data": {
            "text/plain": [
              "<Figure size 600x400 with 1 Axes>"
            ],
            "image/png": "[encoded data removed]"
          },
          "metadata": {}
        }
      ]
    },
    {
      "cell_type": "code",
      "source": [
        "# ------------- Displaying sample images --------------\n",
        "import os\n",
        "from PIL import Image\n",
        "\n",
        "image_dir = '/content/data/patch_images/'\n",
        "\n",
        "#grabbing 5 sample images\n",
        "sample_images = df_main.sample(5)\n",
        "\n",
        "#displaying sample images\n",
        "f, axarr = plt.subplots(1, 5, figsize=(10, 5))\n",
        "for i, (_, row) in enumerate(sample_images.iterrows()):\n",
        "    img_path = os.path.join(image_dir, row['ImageName']) #accessing images from patch_images folder/dir\n",
        "    img = Image.open(img_path)\n",
        "    axarr[i].imshow(img)\n",
        "    axarr[i].axis('off')\n",
        "    axarr[i].set_title(row['cellTypeName'])  #display cell type names\n",
        "plt.show()\n",
        "\n",
        "f, axarr = plt.subplots(1, 5, figsize=(10, 5))\n",
        "for i, (_, row) in enumerate(sample_images.iterrows()):\n",
        "    img_path = os.path.join(image_dir, row['ImageName']) #accessing images from patch_images folder/dir\n",
        "    img = Image.open(img_path)\n",
        "    axarr[i].imshow(img)\n",
        "    axarr[i].axis('off')\n",
        "    cancer_identification = \"Cancerous (1)\" if row['isCancerous'] == 1 else \"Not Cancerous (0)\" #renaming label 1 or 0 to Cancerous or Not Cancerous\n",
        "    axarr[i].set_title(cancer_identification)  #display isCancerous or Not\n",
        "plt.show()\n"
      ],
      "metadata": {
        "colab": {
          "base_uri": "https://localhost:8080/",
          "height": 367
        },
        "id": "CapUNdk9UECE",
        "outputId": "fa821f7d-b74c-47c6-8543-a9be0ba7196a"
      },
      "execution_count": null,
      "outputs": [
        {
          "output_type": "display_data",
          "data": {
            "text/plain": [
              "<Figure size 1000x500 with 5 Axes>"
            ],
            "image/png": "[encoded data removed]"
          },
          "metadata": {}
        },
        {
          "output_type": "display_data",
          "data": {
            "text/plain": [
              "<Figure size 1000x500 with 5 Axes>"
            ],
            "image/png": "[encoded data removed]"
          },
          "metadata": {}
        }
      ]
    },
    {
      "cell_type": "code",
      "source": [
        "#----------- Checking image sizes --------------\n",
        "image_sizes = []\n",
        "\n",
        "#checking through each image\n",
        "for img_name in df_main['ImageName']:\n",
        "    img_path = os.path.join(image_dir, img_name)\n",
        "    try:\n",
        "        with Image.open(img_path) as img:\n",
        "            image_sizes.append(img.size)  #size of each image to list\n",
        "    except:\n",
        "        continue\n",
        "\n",
        "print(\"Image sizes:\")\n",
        "for size in sorted(set(image_sizes)):\n",
        "    print(size)"
      ],
      "metadata": {
        "colab": {
          "base_uri": "https://localhost:8080/"
        },
        "id": "BxmrIi5fUGsz",
        "outputId": "cb1be257-923f-43ac-b43b-f987e7fc73dd"
      },
      "execution_count": null,
      "outputs": [
        {
          "output_type": "stream",
          "name": "stdout",
          "text": [
            "Image sizes:\n",
            "(27, 27)\n"
          ]
        }
      ]
    },
    {
      "cell_type": "markdown",
      "source": [
        "### Pre-processing of Data"
      ],
      "metadata": {
        "id": "GtbMHdl8S8G1"
      }
    },
    {
      "cell_type": "code",
      "source": [
        "import numpy as np\n",
        "import cv2\n",
        "from tensorflow.keras.models import Sequential\n",
        "from tensorflow.keras.layers import Dense, Dropout, Flatten\n",
        "from tensorflow.keras.utils import to_categorical\n",
        "from sklearn.model_selection import train_test_split\n",
        "\n",
        "# Add image path to DataFrame by creating a column to benefit adding images later\n",
        "df_main['ImagePath'] = df_main['ImageName'].apply(lambda x: os.path.join(image_dir, x))\n",
        "\n",
        "# Convert labels into one-hot encoded formats\n",
        "y_isCancerous = to_categorical(df_main['isCancerous'].values, num_classes=2)\n",
        "# Converted cell type labels to one-hot encoded formats 0,1,2,3\n",
        "y_cellType = to_categorical(df_main['cellType'].values, num_classes=4)"
      ],
      "metadata": {
        "id": "JtJv1ZmCTBwP"
      },
      "execution_count": null,
      "outputs": []
    },
    {
      "cell_type": "markdown",
      "source": [
        "##### Split into training, validation and test set"
      ],
      "metadata": {
        "id": "qDec1RtdcYcR"
      }
    },
    {
      "cell_type": "code",
      "source": [
        "\n",
        "\n",
        "# First Split - splitting into 80% for initial training X_train, and 20% test\n",
        "# y_isCancerous into y1_train, y1_val, and y1_test @Isabella\n",
        "# y_cellType into y2_train, y2_val, and y2_test @Joelle\n",
        "# Split is based on isCancerous column to ensure the proportion of cancerous and non-cancerous samples is roughly the same in test and train sets. (Beneficial for potential class imbalance)\n",
        "X_train, X_test, y1_train, y1_test, y2_train, y2_test = train_test_split(\n",
        "    df_main['ImagePath'].values, y_isCancerous, y_cellType,\n",
        "    test_size=0.2, stratify=df_main['isCancerous'], random_state=42\n",
        ")\n",
        "\n",
        "# Second Split - splitting the 80% further to 60% for training and the validation set to 20%\n",
        "# Stratifying the split based on isCancerous labels in the training set to convert the one-hot encoded to its original 0 or 1 label. To ensure the validation set also has a good portion of the isCancerous classes.\n",
        "X_train, X_val, y1_train, y1_val, y2_train, y2_val = train_test_split(\n",
        "    X_train, y1_train, y2_train,\n",
        "    test_size=0.25, stratify=np.argmax(y1_train, axis=1), random_state=42\n",
        ")"
      ],
      "metadata": {
        "id": "2WbPw-YScPnA"
      },
      "execution_count": null,
      "outputs": []
    },
    {
      "cell_type": "markdown",
      "source": [
        "##### Image loader with normalization"
      ],
      "metadata": {
        "id": "4jkYwcIBcjjH"
      }
    },
    {
      "cell_type": "code",
      "source": [
        "def load_images(image_paths, target_size=(27, 27)):\n",
        "    images = []\n",
        "    for path in image_paths:\n",
        "        img = cv2.imread(path)\n",
        "        if img is None:\n",
        "            continue\n",
        "        img = cv2.resize(img, target_size)\n",
        "        img = img.astype('float32') / 255.0  # normalize to [0, 1]\n",
        "        images.append(img)\n",
        "    return np.array(images)"
      ],
      "metadata": {
        "id": "4roLh5GfcR3M"
      },
      "execution_count": null,
      "outputs": []
    },
    {
      "cell_type": "markdown",
      "source": [
        "#### Print train, validation and test shapes"
      ],
      "metadata": {
        "id": "K6KRbmqXcqST"
      }
    },
    {
      "cell_type": "code",
      "source": [
        "# Load image arrays\n",
        "x_train = load_images(X_train) # 72 % of the original data\n",
        "x_val = load_images(X_val) # 8% of the original data\n",
        "x_test = load_images(X_test) # 20% of the original data\n",
        "\n",
        "# Confirm shapes\n",
        "print(\"x_train shape:\", x_train.shape)\n",
        "print(\"y1_train shape (isCancerous):\", y1_train.shape)\n",
        "print(\"y2_train shape (cellType):\", y2_train.shape)"
      ],
      "metadata": {
        "id": "21lIbfRVcTNt",
        "outputId": "0808a906-f8d1-43ba-c828-2b0836e630c2",
        "colab": {
          "base_uri": "https://localhost:8080/"
        }
      },
      "execution_count": null,
      "outputs": [
        {
          "output_type": "stream",
          "name": "stdout",
          "text": [
            "x_train shape: (5937, 27, 27, 3)\n",
            "y1_train shape (isCancerous): (5937, 2)\n",
            "y2_train shape (cellType): (5937, 4)\n"
          ]
        }
      ]
    },
    {
      "cell_type": "markdown",
      "source": [
        "7124 samples in the training set\n",
        "27x27 height and width of each image\n",
        "3 RGB colours because the colour isnt grayscaled. The shapes are consistent after normalising to prepare for the classification tasks.\n",
        "\n",
        "The following are ready for model training:\n",
        "\n",
        "*   isCancerous prediction - y1_train\n",
        "*   cellType prediction - y2_train\n",
        "*   validation models - x_val, y1_val, y2_val\n",
        "*   final evaluation - x_tests, y1_test, y2_test  \n"
      ],
      "metadata": {
        "id": "el6EZpq-bUhR"
      }
    },
    {
      "cell_type": "markdown",
      "source": [
        "### Task 1: Classifying Cancerous Cell or Not\n",
        "**Author: Isabella**"
      ],
      "metadata": {
        "id": "Fhk9J99rTDzJ"
      }
    },
    {
      "cell_type": "markdown",
      "source": [
        "#### Model Building (Baseline)"
      ],
      "metadata": {
        "id": "Cv8q3IIwUHUf"
      }
    },
    {
      "cell_type": "code",
      "source": [
        "from tensorflow.keras.models import Sequential\n",
        "from tensorflow.keras.layers import Conv2D, MaxPooling2D, Flatten, Dense, Activation, InputLayer\n",
        "from tensorflow.keras.utils import to_categorical\n",
        "from keras import metrics\n",
        "from tensorflow.keras.optimizers import Adam"
      ],
      "metadata": {
        "id": "JHnsbsNzTzJ2"
      },
      "execution_count": null,
      "outputs": []
    },
    {
      "cell_type": "code",
      "source": [
        "#---------- CNN Y1 (isCancerous) Baseline model architecture ------------\n",
        "y1_cnn_baseline = Sequential()\n",
        "y1_cnn_baseline.add(Conv2D(32, (3, 3), input_shape=(27, 27, 3)))\n",
        "y1_cnn_baseline.add(Activation('relu'))\n",
        "y1_cnn_baseline.add(MaxPooling2D(pool_size =(2,2)))\n",
        "\n",
        "y1_cnn_baseline.add(Conv2D(64, (3, 3)))\n",
        "y1_cnn_baseline.add(Activation('relu'))\n",
        "y1_cnn_baseline.add(MaxPooling2D(pool_size =(2,2)))\n",
        "\n",
        "y1_cnn_baseline.add(Flatten())\n",
        "y1_cnn_baseline.add(Dense(64))\n",
        "y1_cnn_baseline.add(Activation('relu'))\n",
        "y1_cnn_baseline.add(Dense(2)) #number of classes for y1\n",
        "y1_cnn_baseline.add(Activation('softmax'))\n",
        "\n",
        "optimizer = Adam(learning_rate=0.001)\n",
        "y1_cnn_baseline.compile(loss='categorical_crossentropy',\n",
        "                     optimizer=optimizer,\n",
        "                     metrics=['accuracy',\n",
        "                              metrics.Precision(name='precision'),\n",
        "                              metrics.Recall(name='recall'),\n",
        "                              metrics.AUC(name='auc')]\n",
        "                     )"
      ],
      "metadata": {
        "id": "x3WdqK9jLWr2",
        "outputId": "8d53384d-0f76-4de4-ee93-50af05541393",
        "colab": {
          "base_uri": "https://localhost:8080/"
        }
      },
      "execution_count": null,
      "outputs": [
        {
          "output_type": "stream",
          "name": "stderr",
          "text": [
            "/usr/local/lib/python3.11/dist-packages/keras/src/layers/convolutional/base_conv.py:107: UserWarning: Do not pass an `input_shape`/`input_dim` argument to a layer. When using Sequential models, prefer using an `Input(shape)` object as the first layer in the model instead.\n",
            "  super().__init__(activity_regularizer=activity_regularizer, **kwargs)\n"
          ]
        }
      ]
    },
    {
      "cell_type": "code",
      "source": [
        "# Fitting y1 onto the baseline model\n",
        "history_baseline_y1 = y1_cnn_baseline.fit(x_train, y1_train,\n",
        "                 epochs=100,\n",
        "                 batch_size=32,\n",
        "                 validation_data=(x_val, y1_val),\n",
        "                  verbose=0)"
      ],
      "metadata": {
        "id": "k_HhPy6vLcOC",
        "outputId": "3b00c4c9-db75-4d97-f5e1-7fa88eed9814",
        "colab": {
          "base_uri": "https://localhost:8080/",
          "height": 356
        }
      },
      "execution_count": null,
      "outputs": [
        {
          "output_type": "error",
          "ename": "KeyboardInterrupt",
          "evalue": "",
          "traceback": [
            "\u001b[0;31m---------------------------------------------------------------------------\u001b[0m",
            "\u001b[0;31mKeyboardInterrupt\u001b[0m                         Traceback (most recent call last)",
            "\u001b[0;32m<ipython-input-18-0ebdf5a7499f>\u001b[0m in \u001b[0;36m<cell line: 0>\u001b[0;34m()\u001b[0m\n\u001b[1;32m      1\u001b[0m \u001b[0;31m# Fitting y1 onto the baseline model\u001b[0m\u001b[0;34m\u001b[0m\u001b[0;34m\u001b[0m\u001b[0m\n\u001b[0;32m----> 2\u001b[0;31m history_baseline_y1 = y1_cnn_model.fit(x_train, y1_train,\n\u001b[0m\u001b[1;32m      3\u001b[0m                  \u001b[0mepochs\u001b[0m\u001b[0;34m=\u001b[0m\u001b[0;36m100\u001b[0m\u001b[0;34m,\u001b[0m\u001b[0;34m\u001b[0m\u001b[0;34m\u001b[0m\u001b[0m\n\u001b[1;32m      4\u001b[0m                  \u001b[0mbatch_size\u001b[0m\u001b[0;34m=\u001b[0m\u001b[0;36m32\u001b[0m\u001b[0;34m,\u001b[0m\u001b[0;34m\u001b[0m\u001b[0;34m\u001b[0m\u001b[0m\n\u001b[1;32m      5\u001b[0m                  \u001b[0mvalidation_data\u001b[0m\u001b[0;34m=\u001b[0m\u001b[0;34m(\u001b[0m\u001b[0mx_val\u001b[0m\u001b[0;34m,\u001b[0m \u001b[0my1_val\u001b[0m\u001b[0;34m)\u001b[0m\u001b[0;34m,\u001b[0m\u001b[0;34m\u001b[0m\u001b[0;34m\u001b[0m\u001b[0m\n",
            "\u001b[0;32m/usr/local/lib/python3.11/dist-packages/keras/src/utils/traceback_utils.py\u001b[0m in \u001b[0;36merror_handler\u001b[0;34m(*args, **kwargs)\u001b[0m\n\u001b[1;32m    115\u001b[0m         \u001b[0mfiltered_tb\u001b[0m \u001b[0;34m=\u001b[0m \u001b[0;32mNone\u001b[0m\u001b[0;34m\u001b[0m\u001b[0;34m\u001b[0m\u001b[0m\n\u001b[1;32m    116\u001b[0m         \u001b[0;32mtry\u001b[0m\u001b[0;34m:\u001b[0m\u001b[0;34m\u001b[0m\u001b[0;34m\u001b[0m\u001b[0m\n\u001b[0;32m--> 117\u001b[0;31m             \u001b[0;32mreturn\u001b[0m \u001b[0mfn\u001b[0m\u001b[0;34m(\u001b[0m\u001b[0;34m*\u001b[0m\u001b[0margs\u001b[0m\u001b[0;34m,\u001b[0m \u001b[0;34m**\u001b[0m\u001b[0mkwargs\u001b[0m\u001b[0;34m)\u001b[0m\u001b[0;34m\u001b[0m\u001b[0;34m\u001b[0m\u001b[0m\n\u001b[0m\u001b[1;32m    118\u001b[0m         \u001b[0;32mexcept\u001b[0m \u001b[0mException\u001b[0m \u001b[0;32mas\u001b[0m \u001b[0me\u001b[0m\u001b[0;34m:\u001b[0m\u001b[0;34m\u001b[0m\u001b[0;34m\u001b[0m\u001b[0m\n\u001b[1;32m    119\u001b[0m             \u001b[0mfiltered_tb\u001b[0m \u001b[0;34m=\u001b[0m \u001b[0m_process_traceback_frames\u001b[0m\u001b[0;34m(\u001b[0m\u001b[0me\u001b[0m\u001b[0;34m.\u001b[0m\u001b[0m__traceback__\u001b[0m\u001b[0;34m)\u001b[0m\u001b[0;34m\u001b[0m\u001b[0;34m\u001b[0m\u001b[0m\n",
            "\u001b[0;32m/usr/local/lib/python3.11/dist-packages/keras/src/backend/tensorflow/trainer.py\u001b[0m in \u001b[0;36mfit\u001b[0;34m(self, x, y, batch_size, epochs, verbose, callbacks, validation_split, validation_data, shuffle, class_weight, sample_weight, initial_epoch, steps_per_epoch, validation_steps, validation_batch_size, validation_freq)\u001b[0m\n\u001b[1;32m    369\u001b[0m                 \u001b[0;32mfor\u001b[0m \u001b[0mstep\u001b[0m\u001b[0;34m,\u001b[0m \u001b[0miterator\u001b[0m \u001b[0;32min\u001b[0m \u001b[0mepoch_iterator\u001b[0m\u001b[0;34m:\u001b[0m\u001b[0;34m\u001b[0m\u001b[0;34m\u001b[0m\u001b[0m\n\u001b[1;32m    370\u001b[0m                     \u001b[0mcallbacks\u001b[0m\u001b[0;34m.\u001b[0m\u001b[0mon_train_batch_begin\u001b[0m\u001b[0;34m(\u001b[0m\u001b[0mstep\u001b[0m\u001b[0;34m)\u001b[0m\u001b[0;34m\u001b[0m\u001b[0;34m\u001b[0m\u001b[0m\n\u001b[0;32m--> 371\u001b[0;31m                     \u001b[0mlogs\u001b[0m \u001b[0;34m=\u001b[0m \u001b[0mself\u001b[0m\u001b[0;34m.\u001b[0m\u001b[0mtrain_function\u001b[0m\u001b[0;34m(\u001b[0m\u001b[0miterator\u001b[0m\u001b[0;34m)\u001b[0m\u001b[0;34m\u001b[0m\u001b[0;34m\u001b[0m\u001b[0m\n\u001b[0m\u001b[1;32m    372\u001b[0m                     \u001b[0mcallbacks\u001b[0m\u001b[0;34m.\u001b[0m\u001b[0mon_train_batch_end\u001b[0m\u001b[0;34m(\u001b[0m\u001b[0mstep\u001b[0m\u001b[0;34m,\u001b[0m \u001b[0mlogs\u001b[0m\u001b[0;34m)\u001b[0m\u001b[0;34m\u001b[0m\u001b[0;34m\u001b[0m\u001b[0m\n\u001b[1;32m    373\u001b[0m                     \u001b[0;32mif\u001b[0m \u001b[0mself\u001b[0m\u001b[0;34m.\u001b[0m\u001b[0mstop_training\u001b[0m\u001b[0;34m:\u001b[0m\u001b[0;34m\u001b[0m\u001b[0;34m\u001b[0m\u001b[0m\n",
            "\u001b[0;32m/usr/local/lib/python3.11/dist-packages/keras/src/backend/tensorflow/trainer.py\u001b[0m in \u001b[0;36mfunction\u001b[0;34m(iterator)\u001b[0m\n\u001b[1;32m    217\u001b[0m                 \u001b[0miterator\u001b[0m\u001b[0;34m,\u001b[0m \u001b[0;34m(\u001b[0m\u001b[0mtf\u001b[0m\u001b[0;34m.\u001b[0m\u001b[0mdata\u001b[0m\u001b[0;34m.\u001b[0m\u001b[0mIterator\u001b[0m\u001b[0;34m,\u001b[0m \u001b[0mtf\u001b[0m\u001b[0;34m.\u001b[0m\u001b[0mdistribute\u001b[0m\u001b[0;34m.\u001b[0m\u001b[0mDistributedIterator\u001b[0m\u001b[0;34m)\u001b[0m\u001b[0;34m\u001b[0m\u001b[0;34m\u001b[0m\u001b[0m\n\u001b[1;32m    218\u001b[0m             ):\n\u001b[0;32m--> 219\u001b[0;31m                 \u001b[0mopt_outputs\u001b[0m \u001b[0;34m=\u001b[0m \u001b[0mmulti_step_on_iterator\u001b[0m\u001b[0;34m(\u001b[0m\u001b[0miterator\u001b[0m\u001b[0;34m)\u001b[0m\u001b[0;34m\u001b[0m\u001b[0;34m\u001b[0m\u001b[0m\n\u001b[0m\u001b[1;32m    220\u001b[0m                 \u001b[0;32mif\u001b[0m \u001b[0;32mnot\u001b[0m \u001b[0mopt_outputs\u001b[0m\u001b[0;34m.\u001b[0m\u001b[0mhas_value\u001b[0m\u001b[0;34m(\u001b[0m\u001b[0;34m)\u001b[0m\u001b[0;34m:\u001b[0m\u001b[0;34m\u001b[0m\u001b[0;34m\u001b[0m\u001b[0m\n\u001b[1;32m    221\u001b[0m                     \u001b[0;32mraise\u001b[0m \u001b[0mStopIteration\u001b[0m\u001b[0;34m\u001b[0m\u001b[0;34m\u001b[0m\u001b[0m\n",
            "\u001b[0;32m/usr/local/lib/python3.11/dist-packages/tensorflow/python/util/traceback_utils.py\u001b[0m in \u001b[0;36merror_handler\u001b[0;34m(*args, **kwargs)\u001b[0m\n\u001b[1;32m    148\u001b[0m     \u001b[0mfiltered_tb\u001b[0m \u001b[0;34m=\u001b[0m \u001b[0;32mNone\u001b[0m\u001b[0;34m\u001b[0m\u001b[0;34m\u001b[0m\u001b[0m\n\u001b[1;32m    149\u001b[0m     \u001b[0;32mtry\u001b[0m\u001b[0;34m:\u001b[0m\u001b[0;34m\u001b[0m\u001b[0;34m\u001b[0m\u001b[0m\n\u001b[0;32m--> 150\u001b[0;31m       \u001b[0;32mreturn\u001b[0m \u001b[0mfn\u001b[0m\u001b[0;34m(\u001b[0m\u001b[0;34m*\u001b[0m\u001b[0margs\u001b[0m\u001b[0;34m,\u001b[0m \u001b[0;34m**\u001b[0m\u001b[0mkwargs\u001b[0m\u001b[0;34m)\u001b[0m\u001b[0;34m\u001b[0m\u001b[0;34m\u001b[0m\u001b[0m\n\u001b[0m\u001b[1;32m    151\u001b[0m     \u001b[0;32mexcept\u001b[0m \u001b[0mException\u001b[0m \u001b[0;32mas\u001b[0m \u001b[0me\u001b[0m\u001b[0;34m:\u001b[0m\u001b[0;34m\u001b[0m\u001b[0;34m\u001b[0m\u001b[0m\n\u001b[1;32m    152\u001b[0m       \u001b[0mfiltered_tb\u001b[0m \u001b[0;34m=\u001b[0m \u001b[0m_process_traceback_frames\u001b[0m\u001b[0;34m(\u001b[0m\u001b[0me\u001b[0m\u001b[0;34m.\u001b[0m\u001b[0m__traceback__\u001b[0m\u001b[0;34m)\u001b[0m\u001b[0;34m\u001b[0m\u001b[0;34m\u001b[0m\u001b[0m\n",
            "\u001b[0;32m/usr/local/lib/python3.11/dist-packages/tensorflow/python/eager/polymorphic_function/polymorphic_function.py\u001b[0m in \u001b[0;36m__call__\u001b[0;34m(self, *args, **kwds)\u001b[0m\n\u001b[1;32m    831\u001b[0m \u001b[0;34m\u001b[0m\u001b[0m\n\u001b[1;32m    832\u001b[0m       \u001b[0;32mwith\u001b[0m \u001b[0mOptionalXlaContext\u001b[0m\u001b[0;34m(\u001b[0m\u001b[0mself\u001b[0m\u001b[0;34m.\u001b[0m\u001b[0m_jit_compile\u001b[0m\u001b[0;34m)\u001b[0m\u001b[0;34m:\u001b[0m\u001b[0;34m\u001b[0m\u001b[0;34m\u001b[0m\u001b[0m\n\u001b[0;32m--> 833\u001b[0;31m         \u001b[0mresult\u001b[0m \u001b[0;34m=\u001b[0m \u001b[0mself\u001b[0m\u001b[0;34m.\u001b[0m\u001b[0m_call\u001b[0m\u001b[0;34m(\u001b[0m\u001b[0;34m*\u001b[0m\u001b[0margs\u001b[0m\u001b[0;34m,\u001b[0m \u001b[0;34m**\u001b[0m\u001b[0mkwds\u001b[0m\u001b[0;34m)\u001b[0m\u001b[0;34m\u001b[0m\u001b[0;34m\u001b[0m\u001b[0m\n\u001b[0m\u001b[1;32m    834\u001b[0m \u001b[0;34m\u001b[0m\u001b[0m\n\u001b[1;32m    835\u001b[0m       \u001b[0mnew_tracing_count\u001b[0m \u001b[0;34m=\u001b[0m \u001b[0mself\u001b[0m\u001b[0;34m.\u001b[0m\u001b[0mexperimental_get_tracing_count\u001b[0m\u001b[0;34m(\u001b[0m\u001b[0;34m)\u001b[0m\u001b[0;34m\u001b[0m\u001b[0;34m\u001b[0m\u001b[0m\n",
            "\u001b[0;32m/usr/local/lib/python3.11/dist-packages/tensorflow/python/eager/polymorphic_function/polymorphic_function.py\u001b[0m in \u001b[0;36m_call\u001b[0;34m(self, *args, **kwds)\u001b[0m\n\u001b[1;32m    876\u001b[0m       \u001b[0;31m# In this case we have not created variables on the first call. So we can\u001b[0m\u001b[0;34m\u001b[0m\u001b[0;34m\u001b[0m\u001b[0m\n\u001b[1;32m    877\u001b[0m       \u001b[0;31m# run the first trace but we should fail if variables are created.\u001b[0m\u001b[0;34m\u001b[0m\u001b[0;34m\u001b[0m\u001b[0m\n\u001b[0;32m--> 878\u001b[0;31m       results = tracing_compilation.call_function(\n\u001b[0m\u001b[1;32m    879\u001b[0m           \u001b[0margs\u001b[0m\u001b[0;34m,\u001b[0m \u001b[0mkwds\u001b[0m\u001b[0;34m,\u001b[0m \u001b[0mself\u001b[0m\u001b[0;34m.\u001b[0m\u001b[0m_variable_creation_config\u001b[0m\u001b[0;34m\u001b[0m\u001b[0;34m\u001b[0m\u001b[0m\n\u001b[1;32m    880\u001b[0m       )\n",
            "\u001b[0;32m/usr/local/lib/python3.11/dist-packages/tensorflow/python/eager/polymorphic_function/tracing_compilation.py\u001b[0m in \u001b[0;36mcall_function\u001b[0;34m(args, kwargs, tracing_options)\u001b[0m\n\u001b[1;32m    137\u001b[0m   \u001b[0mbound_args\u001b[0m \u001b[0;34m=\u001b[0m \u001b[0mfunction\u001b[0m\u001b[0;34m.\u001b[0m\u001b[0mfunction_type\u001b[0m\u001b[0;34m.\u001b[0m\u001b[0mbind\u001b[0m\u001b[0;34m(\u001b[0m\u001b[0;34m*\u001b[0m\u001b[0margs\u001b[0m\u001b[0;34m,\u001b[0m \u001b[0;34m**\u001b[0m\u001b[0mkwargs\u001b[0m\u001b[0;34m)\u001b[0m\u001b[0;34m\u001b[0m\u001b[0;34m\u001b[0m\u001b[0m\n\u001b[1;32m    138\u001b[0m   \u001b[0mflat_inputs\u001b[0m \u001b[0;34m=\u001b[0m \u001b[0mfunction\u001b[0m\u001b[0;34m.\u001b[0m\u001b[0mfunction_type\u001b[0m\u001b[0;34m.\u001b[0m\u001b[0munpack_inputs\u001b[0m\u001b[0;34m(\u001b[0m\u001b[0mbound_args\u001b[0m\u001b[0;34m)\u001b[0m\u001b[0;34m\u001b[0m\u001b[0;34m\u001b[0m\u001b[0m\n\u001b[0;32m--> 139\u001b[0;31m   return function._call_flat(  # pylint: disable=protected-access\n\u001b[0m\u001b[1;32m    140\u001b[0m       \u001b[0mflat_inputs\u001b[0m\u001b[0;34m,\u001b[0m \u001b[0mcaptured_inputs\u001b[0m\u001b[0;34m=\u001b[0m\u001b[0mfunction\u001b[0m\u001b[0;34m.\u001b[0m\u001b[0mcaptured_inputs\u001b[0m\u001b[0;34m\u001b[0m\u001b[0;34m\u001b[0m\u001b[0m\n\u001b[1;32m    141\u001b[0m   )\n",
            "\u001b[0;32m/usr/local/lib/python3.11/dist-packages/tensorflow/python/eager/polymorphic_function/concrete_function.py\u001b[0m in \u001b[0;36m_call_flat\u001b[0;34m(self, tensor_inputs, captured_inputs)\u001b[0m\n\u001b[1;32m   1320\u001b[0m         and executing_eagerly):\n\u001b[1;32m   1321\u001b[0m       \u001b[0;31m# No tape is watching; skip to running the function.\u001b[0m\u001b[0;34m\u001b[0m\u001b[0;34m\u001b[0m\u001b[0m\n\u001b[0;32m-> 1322\u001b[0;31m       \u001b[0;32mreturn\u001b[0m \u001b[0mself\u001b[0m\u001b[0;34m.\u001b[0m\u001b[0m_inference_function\u001b[0m\u001b[0;34m.\u001b[0m\u001b[0mcall_preflattened\u001b[0m\u001b[0;34m(\u001b[0m\u001b[0margs\u001b[0m\u001b[0;34m)\u001b[0m\u001b[0;34m\u001b[0m\u001b[0;34m\u001b[0m\u001b[0m\n\u001b[0m\u001b[1;32m   1323\u001b[0m     forward_backward = self._select_forward_and_backward_functions(\n\u001b[1;32m   1324\u001b[0m         \u001b[0margs\u001b[0m\u001b[0;34m,\u001b[0m\u001b[0;34m\u001b[0m\u001b[0;34m\u001b[0m\u001b[0m\n",
            "\u001b[0;32m/usr/local/lib/python3.11/dist-packages/tensorflow/python/eager/polymorphic_function/atomic_function.py\u001b[0m in \u001b[0;36mcall_preflattened\u001b[0;34m(self, args)\u001b[0m\n\u001b[1;32m    214\u001b[0m   \u001b[0;32mdef\u001b[0m \u001b[0mcall_preflattened\u001b[0m\u001b[0;34m(\u001b[0m\u001b[0mself\u001b[0m\u001b[0;34m,\u001b[0m \u001b[0margs\u001b[0m\u001b[0;34m:\u001b[0m \u001b[0mSequence\u001b[0m\u001b[0;34m[\u001b[0m\u001b[0mcore\u001b[0m\u001b[0;34m.\u001b[0m\u001b[0mTensor\u001b[0m\u001b[0;34m]\u001b[0m\u001b[0;34m)\u001b[0m \u001b[0;34m->\u001b[0m \u001b[0mAny\u001b[0m\u001b[0;34m:\u001b[0m\u001b[0;34m\u001b[0m\u001b[0;34m\u001b[0m\u001b[0m\n\u001b[1;32m    215\u001b[0m     \u001b[0;34m\"\"\"Calls with flattened tensor inputs and returns the structured output.\"\"\"\u001b[0m\u001b[0;34m\u001b[0m\u001b[0;34m\u001b[0m\u001b[0m\n\u001b[0;32m--> 216\u001b[0;31m     \u001b[0mflat_outputs\u001b[0m \u001b[0;34m=\u001b[0m \u001b[0mself\u001b[0m\u001b[0;34m.\u001b[0m\u001b[0mcall_flat\u001b[0m\u001b[0;34m(\u001b[0m\u001b[0;34m*\u001b[0m\u001b[0margs\u001b[0m\u001b[0;34m)\u001b[0m\u001b[0;34m\u001b[0m\u001b[0;34m\u001b[0m\u001b[0m\n\u001b[0m\u001b[1;32m    217\u001b[0m     \u001b[0;32mreturn\u001b[0m \u001b[0mself\u001b[0m\u001b[0;34m.\u001b[0m\u001b[0mfunction_type\u001b[0m\u001b[0;34m.\u001b[0m\u001b[0mpack_output\u001b[0m\u001b[0;34m(\u001b[0m\u001b[0mflat_outputs\u001b[0m\u001b[0;34m)\u001b[0m\u001b[0;34m\u001b[0m\u001b[0;34m\u001b[0m\u001b[0m\n\u001b[1;32m    218\u001b[0m \u001b[0;34m\u001b[0m\u001b[0m\n",
            "\u001b[0;32m/usr/local/lib/python3.11/dist-packages/tensorflow/python/eager/polymorphic_function/atomic_function.py\u001b[0m in \u001b[0;36mcall_flat\u001b[0;34m(self, *args)\u001b[0m\n\u001b[1;32m    249\u001b[0m         \u001b[0;32mwith\u001b[0m \u001b[0mrecord\u001b[0m\u001b[0;34m.\u001b[0m\u001b[0mstop_recording\u001b[0m\u001b[0;34m(\u001b[0m\u001b[0;34m)\u001b[0m\u001b[0;34m:\u001b[0m\u001b[0;34m\u001b[0m\u001b[0;34m\u001b[0m\u001b[0m\n\u001b[1;32m    250\u001b[0m           \u001b[0;32mif\u001b[0m \u001b[0mself\u001b[0m\u001b[0;34m.\u001b[0m\u001b[0m_bound_context\u001b[0m\u001b[0;34m.\u001b[0m\u001b[0mexecuting_eagerly\u001b[0m\u001b[0;34m(\u001b[0m\u001b[0;34m)\u001b[0m\u001b[0;34m:\u001b[0m\u001b[0;34m\u001b[0m\u001b[0;34m\u001b[0m\u001b[0m\n\u001b[0;32m--> 251\u001b[0;31m             outputs = self._bound_context.call_function(\n\u001b[0m\u001b[1;32m    252\u001b[0m                 \u001b[0mself\u001b[0m\u001b[0;34m.\u001b[0m\u001b[0mname\u001b[0m\u001b[0;34m,\u001b[0m\u001b[0;34m\u001b[0m\u001b[0;34m\u001b[0m\u001b[0m\n\u001b[1;32m    253\u001b[0m                 \u001b[0mlist\u001b[0m\u001b[0;34m(\u001b[0m\u001b[0margs\u001b[0m\u001b[0;34m)\u001b[0m\u001b[0;34m,\u001b[0m\u001b[0;34m\u001b[0m\u001b[0;34m\u001b[0m\u001b[0m\n",
            "\u001b[0;32m/usr/local/lib/python3.11/dist-packages/tensorflow/python/eager/context.py\u001b[0m in \u001b[0;36mcall_function\u001b[0;34m(self, name, tensor_inputs, num_outputs)\u001b[0m\n\u001b[1;32m   1681\u001b[0m     \u001b[0mcancellation_context\u001b[0m \u001b[0;34m=\u001b[0m \u001b[0mcancellation\u001b[0m\u001b[0;34m.\u001b[0m\u001b[0mcontext\u001b[0m\u001b[0;34m(\u001b[0m\u001b[0;34m)\u001b[0m\u001b[0;34m\u001b[0m\u001b[0;34m\u001b[0m\u001b[0m\n\u001b[1;32m   1682\u001b[0m     \u001b[0;32mif\u001b[0m \u001b[0mcancellation_context\u001b[0m \u001b[0;32mis\u001b[0m \u001b[0;32mNone\u001b[0m\u001b[0;34m:\u001b[0m\u001b[0;34m\u001b[0m\u001b[0;34m\u001b[0m\u001b[0m\n\u001b[0;32m-> 1683\u001b[0;31m       outputs = execute.execute(\n\u001b[0m\u001b[1;32m   1684\u001b[0m           \u001b[0mname\u001b[0m\u001b[0;34m.\u001b[0m\u001b[0mdecode\u001b[0m\u001b[0;34m(\u001b[0m\u001b[0;34m\"utf-8\"\u001b[0m\u001b[0;34m)\u001b[0m\u001b[0;34m,\u001b[0m\u001b[0;34m\u001b[0m\u001b[0;34m\u001b[0m\u001b[0m\n\u001b[1;32m   1685\u001b[0m           \u001b[0mnum_outputs\u001b[0m\u001b[0;34m=\u001b[0m\u001b[0mnum_outputs\u001b[0m\u001b[0;34m,\u001b[0m\u001b[0;34m\u001b[0m\u001b[0;34m\u001b[0m\u001b[0m\n",
            "\u001b[0;32m/usr/local/lib/python3.11/dist-packages/tensorflow/python/eager/execute.py\u001b[0m in \u001b[0;36mquick_execute\u001b[0;34m(op_name, num_outputs, inputs, attrs, ctx, name)\u001b[0m\n\u001b[1;32m     51\u001b[0m   \u001b[0;32mtry\u001b[0m\u001b[0;34m:\u001b[0m\u001b[0;34m\u001b[0m\u001b[0;34m\u001b[0m\u001b[0m\n\u001b[1;32m     52\u001b[0m     \u001b[0mctx\u001b[0m\u001b[0;34m.\u001b[0m\u001b[0mensure_initialized\u001b[0m\u001b[0;34m(\u001b[0m\u001b[0;34m)\u001b[0m\u001b[0;34m\u001b[0m\u001b[0;34m\u001b[0m\u001b[0m\n\u001b[0;32m---> 53\u001b[0;31m     tensors = pywrap_tfe.TFE_Py_Execute(ctx._handle, device_name, op_name,\n\u001b[0m\u001b[1;32m     54\u001b[0m                                         inputs, attrs, num_outputs)\n\u001b[1;32m     55\u001b[0m   \u001b[0;32mexcept\u001b[0m \u001b[0mcore\u001b[0m\u001b[0;34m.\u001b[0m\u001b[0m_NotOkStatusException\u001b[0m \u001b[0;32mas\u001b[0m \u001b[0me\u001b[0m\u001b[0;34m:\u001b[0m\u001b[0;34m\u001b[0m\u001b[0;34m\u001b[0m\u001b[0m\n",
            "\u001b[0;31mKeyboardInterrupt\u001b[0m: "
          ]
        }
      ]
    },
    {
      "cell_type": "code",
      "source": [
        "import matplotlib.pyplot as plt\n",
        "\n",
        "# Plotting learning curve of baseline model to check for overfitting\n",
        "def plot_learning_curves(history, metrics_list):\n",
        "    n_metrics = len(metrics_list)\n",
        "    plt.figure(figsize=(5 * (n_metrics + 1), 5))\n",
        "\n",
        "    # Loss learning curve\n",
        "    plt.subplot(1, n_metrics + 1, 1)\n",
        "    plt.plot(history.history['loss'], 'r--')\n",
        "    plt.plot(history.history['val_loss'], 'b--')\n",
        "    plt.xlabel(\"Epochs\")\n",
        "    plt.ylabel(\"Loss\")\n",
        "    plt.title(\"Training and Validation Loss\")\n",
        "    plt.legend(['train', 'val'], loc='upper left')\n",
        "\n",
        "    # Metrics learning curve\n",
        "    for i, metric in enumerate(metrics_list, start=2):\n",
        "        plt.subplot(1, n_metrics + 1, i)\n",
        "        plt.plot(history.history[metric], 'r--')\n",
        "        plt.plot(history.history['val_' + metric], 'b--')\n",
        "        plt.xlabel(\"Epochs\")\n",
        "        plt.ylabel(metric)\n",
        "        plt.title(f\"Training and Validation {metric}\")\n",
        "        plt.legend(['train', 'val'], loc='upper left')\n",
        "\n",
        "    plt.tight_layout()\n",
        "    plt.show()\n",
        "\n",
        "plot_learning_curves(history_baseline_y1, ['accuracy', 'precision', 'recall', 'auc'])"
      ],
      "metadata": {
        "id": "-3khCKNILelB"
      },
      "execution_count": null,
      "outputs": []
    },
    {
      "cell_type": "markdown",
      "source": [
        "**Baseline Model Generalisation**\n",
        "\n",
        "From the loss, accuracy, recall, and ROC-AUC learning curve above, it is clear that the **baseline model is overfitting the data**.\n",
        "\n",
        "The large gap between the train and validation sets indicates that the model is fitting too well to the training data and  not performing well on the validation data acting as unseen data."
      ],
      "metadata": {
        "id": "WP78gLx6Lh0_"
      }
    },
    {
      "cell_type": "code",
      "source": [
        "#---------- Evaluating Baseline Model ----------\n",
        "from sklearn.metrics import confusion_matrix, classification_report\n",
        "import seaborn as sns\n",
        "import numpy as np\n",
        "\n",
        "y1_val_probs = y1_cnn_baseline.predict(x_val) # baseline model predicting on the validation set\n",
        "\n",
        "# Convert one-hot predictions and labels to class indices\n",
        "y1_val_pred = np.argmax(y1_val_probs, axis=1)\n",
        "y1_val_true = np.argmax(y1_val, axis=1)\n",
        "\n",
        "# Classification report\n",
        "class_labels = ['Non-cancerous', 'Cancerous']\n",
        "print(\"Classification Report:\\n\")\n",
        "print(classification_report(y1_val_true, y1_val_pred, target_names=class_labels))\n",
        "\n",
        "# Confusion matrix\n",
        "cm = confusion_matrix(y1_val_true, y1_val_pred)\n",
        "sns.heatmap(cm, annot=True, fmt='d', cmap='Blues',\n",
        "            xticklabels=class_labels, yticklabels=class_labels)\n",
        "plt.xlabel('Predicted Labels')\n",
        "plt.ylabel('True Labels')\n",
        "plt.title('Confusion Matrix - Baseline CNN (on Validation Set)')\n",
        "plt.show()\n",
        "\n",
        "# Sample image prediction on validation set\n",
        "import random\n",
        "def predict_random_image(x_data, y_data, model, class_labels):\n",
        "    idx = random.randint(0, len(x_data) - 1) #random image\n",
        "\n",
        "    img = x_data[idx] #retrieving random image\n",
        "    actual_label = np.argmax(y_data[idx]) if y_data.ndim > 1 else y_data[idx] #retrieving actual label of the random image\n",
        "\n",
        "    img_input = np.expand_dims(img, axis=0) #batch dimension\n",
        "\n",
        "    #predicting image on baseline model\n",
        "    prediction = model.predict(img_input)\n",
        "    predicted_class = np.argmax(prediction)\n",
        "\n",
        "\n",
        "    plt.figure(figsize=(3, 2))\n",
        "    plt.imshow(img)\n",
        "    plt.title(f\"Sample Image Prediction (Baseline model)\\nPredicted: {class_labels[predicted_class]} | Actual: {class_labels[actual_label]}\")\n",
        "    plt.axis('off')\n",
        "    plt.show()\n",
        "\n",
        "predict_random_image(x_val, y1_val, y1_cnn_baseline, class_labels)"
      ],
      "metadata": {
        "id": "0DYs7rQmLi7a",
        "outputId": "85154cad-8bc1-42ef-fb2a-2dd69c4b0b7f",
        "colab": {
          "base_uri": "https://localhost:8080/",
          "height": 1000
        }
      },
      "execution_count": null,
      "outputs": [
        {
          "output_type": "stream",
          "name": "stdout",
          "text": [
            "\u001b[1m62/62\u001b[0m \u001b[32m━━━━━━━━━━━━━━━━━━━━\u001b[0m\u001b[37m\u001b[0m \u001b[1m2s\u001b[0m 18ms/step\n",
            "Classification Report:\n",
            "\n",
            "               precision    recall  f1-score   support\n",
            "\n",
            "Non-cancerous       0.91      0.89      0.90      1163\n",
            "    Cancerous       0.85      0.88      0.86       816\n",
            "\n",
            "     accuracy                           0.89      1979\n",
            "    macro avg       0.88      0.88      0.88      1979\n",
            " weighted avg       0.89      0.89      0.89      1979\n",
            "\n"
          ]
        },
        {
          "output_type": "display_data",
          "data": {
            "text/plain": [
              "<Figure size 640x480 with 2 Axes>"
            ],
            "image/png": "[encoded data removed]"
          },
          "metadata": {}
        },
        {
          "output_type": "stream",
          "name": "stdout",
          "text": [
            "\u001b[1m1/1\u001b[0m \u001b[32m━━━━━━━━━━━━━━━━━━━━\u001b[0m\u001b[37m\u001b[0m \u001b[1m1s\u001b[0m 1s/step\n"
          ]
        },
        {
          "output_type": "display_data",
          "data": {
            "text/plain": [
              "<Figure size 640x480 with 1 Axes>"
            ],
            "image/png": "[encoded data removed]"
          },
          "metadata": {}
        }
      ]
    },
    {
      "cell_type": "markdown",
      "source": [
        "**Baseline Model Evaluation**\n",
        "\n",
        "Baseline model implemented a CNN architecture over MLP due to its ability to capture spatial patterns in images.\n",
        "\n",
        "The baseline model's performance in predicting isCancerous displays a high f1-score of 0.88 and other metrics. Whilst this baseline model is performing relatively well, the above learning curves presented clear overfitting of the data, to which concludes that this model's performance is not the best representation for generalising to unseen data/new images. Making this model unfit.\n",
        "\n",
        "Whilst the baseline's macro average treats all the classes equally in this imbalanced dataset, and presents a decently high average of 0.87, indicating that this baseline model performs pretty well on both classes, data augmentation and other possible parameter tuning is needed to produce a well generalising and accurate model."
      ],
      "metadata": {
        "id": "A2bMUNiJLqw-"
      }
    },
    {
      "cell_type": "markdown",
      "source": [
        "#### Model Training (Parameter Tuning)"
      ],
      "metadata": {
        "id": "5lPOt-eGULx0"
      }
    },
    {
      "cell_type": "code",
      "source": [
        "from tensorflow.keras import regularizers\n",
        "from tensorflow.keras import optimizers\n",
        "from tensorflow.keras.optimizers import SGD\n",
        "from tensorflow.keras.preprocessing.image import ImageDataGenerator"
      ],
      "metadata": {
        "id": "E0LjLm5zUSMk"
      },
      "execution_count": null,
      "outputs": []
    },
    {
      "cell_type": "code",
      "source": [
        "#---------- Handling Class Imbalance by Data Augmentation on Minority Class of Y1 isCancerous ----------\n",
        "minor_class = 1  #minority class is 1 = is cancerous as seen on the class imbalance identification in EDA\n",
        "minor_ind = np.where(y1_train[:, minor_class] == 1)[0]\n",
        "x_minor = x_train[minor_ind]\n",
        "y1_minor = y1_train[minor_ind]\n",
        "\n",
        "datagen = ImageDataGenerator( #light augmentation on the images to preserve key features\n",
        "    rotation_range=10,\n",
        "    width_shift_range=0.05,\n",
        "    height_shift_range=0.05,\n",
        "    zoom_range=0.05,\n",
        "    horizontal_flip=True\n",
        ")\n",
        "\n",
        "major_count = np.sum(y1_train[:, 0])\n",
        "minor_count = len(x_minor)\n",
        "n_samples = int(major_count - minor_count) #number of samples to generate matches the majority class (0 = is not cancerous)\n",
        "\n",
        "augmented_images = []\n",
        "augmented_labels = []\n",
        "for x_batch, y1_batch in datagen.flow(x_minor, y1_minor, batch_size=32, shuffle=False):\n",
        "    augmented_images.append(x_batch)\n",
        "    augmented_labels.append(y1_batch)\n",
        "    if len(augmented_images) * 32 >= n_samples:\n",
        "        break\n",
        "\n",
        "# combining augmented samples with desired number of samples\n",
        "x_aug = np.concatenate(augmented_images)[:n_samples]\n",
        "y1_aug = np.concatenate(augmented_labels)[:n_samples]\n",
        "\n",
        "# combining augmented samples with original training data\n",
        "x_train_balanced = np.concatenate([x_train, x_aug])\n",
        "y1_train_balanced = np.concatenate([y1_train, y1_aug])\n",
        "\n",
        "print(\"Class distribution:\", np.sum(y1_train_balanced, axis=0))\n",
        "\n",
        "# printing sample augmented cancerous images (minority class (1 = is cancerous))\n",
        "plt.figure(figsize=(6, 4))\n",
        "for i in range(3):\n",
        "    plt.subplot(1, 3, i + 1)\n",
        "    plt.imshow(x_aug[i])\n",
        "    plt.axis('off')\n",
        "    plt.title(f\"Augmented #{i+1}\")\n",
        "plt.suptitle(\"Sample Augmented Images (isCancerous (1) Class)\")\n",
        "plt.show()"
      ],
      "metadata": {
        "id": "4bxDk8oJtgRr"
      },
      "execution_count": null,
      "outputs": []
    },
    {
      "cell_type": "markdown",
      "source": [
        "**Handling Class Imbalance**\n",
        "\n",
        "To fix the slight *class imbalance on the Y1 isCancerous column as per shown in EDA*, data augmentation was implemented to the minority class previously identified in EDA as class 1 (is cancerous) with 4079 cases as compared with class 0 (is not cancerous) with 5817 cases. The images were augmentated with light changes to the rotation, horizontal and vertical shift, zooming, and flipped horizontally to avoid distorting the image features too much. As seen above, the sample augmented images show slight modifications to the images, barely noticeable to preserve key features. These augmented images were sampled back in to the original data to balance out both classes and the distribution of the classes are printed above."
      ],
      "metadata": {
        "id": "y7ATt6fDtlDW"
      }
    },
    {
      "cell_type": "code",
      "source": [
        "#---------- CNN Y1 (isCancerous) Param tuning model architecture ------------\n",
        "y1_cnn_model = Sequential()\n",
        "y1_cnn_model.add(Conv2D(32, (3, 3), kernel_regularizer=regularizers.l2(0.001), input_shape=(27, 27, 3))) #adding l2 regularisation\n",
        "y1_cnn_model.add(Activation('relu'))\n",
        "y1_cnn_model.add(MaxPooling2D(pool_size =(2,2)))\n",
        "y1_cnn_model.add(Dropout(0.25))\n",
        "\n",
        "y1_cnn_model.add(Conv2D(64, (3, 3)))\n",
        "y1_cnn_model.add(Activation('relu'))\n",
        "y1_cnn_model.add(MaxPooling2D(pool_size =(2,2)))\n",
        "y1_cnn_model.add(Dropout(0.25))\n",
        "\n",
        "y1_cnn_model.add(Flatten())\n",
        "y1_cnn_model.add(Dense(32))\n",
        "y1_cnn_model.add(Activation('relu'))\n",
        "y1_cnn_model.add(Dropout(0.5)) #adding dropout\n",
        "\n",
        "y1_cnn_model.add(Dense(2))\n",
        "y1_cnn_model.add(Activation('softmax'))\n",
        "\n",
        "sgd = optimizers.SGD(learning_rate=0.0001, momentum=0.9, nesterov=True) #using sgd optimiser over adam\n",
        "#optimizer = Adam(learning_rate=0.0001)\n",
        "y1_cnn_model.compile(loss='categorical_crossentropy',\n",
        "                     optimizer=sgd,\n",
        "                     metrics=['accuracy',\n",
        "                              metrics.Precision(name='precision'),\n",
        "                              metrics.Recall(name='recall'),\n",
        "                              metrics.AUC(name='auc')]\n",
        "                     )"
      ],
      "metadata": {
        "id": "jn9xB18FtmcA"
      },
      "execution_count": null,
      "outputs": []
    },
    {
      "cell_type": "code",
      "source": [
        "# Fitting y1 onto the model\n",
        "history_model_y1 = y1_cnn_model.fit(x_train_balanced, y1_train_balanced,\n",
        "                 epochs=100,\n",
        "                 batch_size=32,\n",
        "                 validation_data=(x_val, y1_val),\n",
        "                  verbose=0)"
      ],
      "metadata": {
        "id": "lT0_FDfZtots"
      },
      "execution_count": null,
      "outputs": []
    },
    {
      "cell_type": "code",
      "source": [
        "# Plotting loss and metric learning curves to check for overfitting\n",
        "plot_learning_curves(history_model_y1, ['accuracy', 'precision', 'recall', 'auc'])"
      ],
      "metadata": {
        "id": "MT_H847EtqUc"
      },
      "execution_count": null,
      "outputs": []
    },
    {
      "cell_type": "markdown",
      "source": [
        "**Baseline + L2 Regularisation + Dropout + No. of Neurons + Learning Rate Model (Tuned Model) Generalisation**\n",
        "\n",
        "After an iterative process of parameter tuning on the CNN baseline model for isCancerous, the improved model's learning curves above display less of a performance gap between the training and validation set. With a steady decrease in loss and no erratic spikes indicating stability within the validation set, the model shows no signs of overfitting or underfitting.\n",
        "\n",
        "*The baseline parameter tuning included: L2 Regularisation, dropout, reduction of neurons, and learning rate.*\n",
        "\n",
        "The implementation of dropout and regularisation within the model were the main contributors in improving generalisation of the model. A dropout rate of 0.25 in each convolutional layer, and a final strong rate 0.5 in the dense layer\n",
        "allowed for the model to effectively drop random neurons in the convolutional layers, meaning that the model reduces the reliance on memorising the train data and thus can generalise more effectively. During model training, different values of dropout were tested and this lessened the performance gap between the train and validation set, however the validation set was erratic and still presented signs of overfitting.\n",
        "After iterative training on L2 regularisation which balanced weights found that 0.01 regularisation along with dropout produced learning curves in all metrics that had little to no gap between the sets which is ideal. The instability within the validation set was improved by tuning the learning rate to 0.0001 from 0.001, this may explain that the model was skipping important data and so by further lessening the learning steps, the model is able to learn important information resulting in an almost ideal learning curves.\n",
        "\n",
        "The number of neurons within the dense layer was also tuned down from 64 to 32 to reduce model complexity, because the model was previously overfitting.\n",
        "\n",
        "The combination of the above parameters resulted in near idealistic learning curves that presented decent generalisation."
      ],
      "metadata": {
        "id": "uemSGzpztr7A"
      }
    },
    {
      "cell_type": "code",
      "source": [
        "#---------- Evaluating Param Tuned Model ----------\n",
        "y1_val_probs = y1_cnn_model.predict(x_val) # model predicting on the validation set\n",
        "\n",
        "# Convert one-hot predictions and labels to class indices\n",
        "y1_val_pred = np.argmax(y1_val_probs, axis=1)\n",
        "y1_val_true = np.argmax(y1_val, axis=1)\n",
        "\n",
        "# Classification report\n",
        "class_labels = ['Non-cancerous', 'Cancerous']\n",
        "print(\"Classification Report:\\n\")\n",
        "print(classification_report(y1_val_true, y1_val_pred, target_names=class_labels))\n",
        "\n",
        "# Confusion matrix\n",
        "cm = confusion_matrix(y1_val_true, y1_val_pred)\n",
        "sns.heatmap(cm, annot=True, fmt='d', cmap='Blues',\n",
        "            xticklabels=class_labels, yticklabels=class_labels)\n",
        "plt.xlabel('Predicted Labels')\n",
        "plt.ylabel('True Labels')\n",
        "plt.title('Confusion Matrix - Baseline CNN (on Validation Set)')\n",
        "plt.show()"
      ],
      "metadata": {
        "id": "F0ANavv9tvh3"
      },
      "execution_count": null,
      "outputs": []
    },
    {
      "cell_type": "markdown",
      "source": [
        "**Evaluation on the Tuned Model**\n",
        "\n",
        "The **purpose of the validation set** in this model was to asses the performance during training whilst iteratively tuning the parameters, it also detected how well the model was fitting onto the data.\n",
        "\n",
        "The process of hyperparameter tuning on the baseline model to improve performance was done iteratively. Whereby, each parameter was tuned on the model one at a time and evaluated to view it effects on the performance. After selecting the best performing rates for each parameter, a combination of parameters were specifically chosen to improve overfitting (which was the model's main issue) were included to the model and then evaluated and tuned again until an ideal generalisation and performance was achieved. The tuned parameters chosen were mentioned previously.\n",
        "\n",
        "In order to **avoid patient-based data leakage**, the model is evaluated on a seperate validation set that simulates unseen data. Preventing the model to memorise specific patients cell patterns as it will fail to detect cancerous cases with unseen patients in the real world due to leakage. Another possible solution apart from splitting the data is augmenting the image data so that the model can learn images and still perform well on unseen data as the augmented images differ."
      ],
      "metadata": {
        "id": "mqPAuF82txhs"
      }
    },
    {
      "cell_type": "markdown",
      "source": [
        "#### Evaluation"
      ],
      "metadata": {
        "id": "eM_02IagUS4J"
      }
    },
    {
      "cell_type": "markdown",
      "source": [
        "**Final isCancerous Model Evaluation**\n",
        "\n",
        "Due to the slight imbalance within class \"isCancerous\", the accuracy metric itself *may provide misleading information* as it ignores how well each class is predicted. The addition of precision, recall, AUC and F1 score ensured that the model can be judged overall and identifies how many cancerous and non-cancerous cases are correctly predicted per class.\n",
        "\n",
        "The final model chosen to predict Y1 \"isCancerous\" is the tuned model, the tuning of parameters resulted in a high balanced f1-score across classes (cancerous and non-cancerous) of 0.86 and 0.89. Whilst being well generalised to unseen data, the model also retrieves high accuracy, precision, recall, f1-scores of above 0.81. This model produces an improvement particularly in the recall of cancerous cases, with a high recall score of 0.91, this is crucial as there is higher need to detect cancerous cases of patients.\n",
        "\n",
        "This improvement in performance is due to the reduction of model complexity in the baseline by lessening the neurons and implementing regularisation and dropout to the model. Resulting in improved generalisation and therefore accurate/reliable performance.\n",
        "\n",
        "** **\n",
        "**Comparative Analysis**\n",
        "\n",
        "**Final isCancerous Model vs. Baseline Model**\n",
        "\n",
        "The final model displays a steadier increase in both train and validation sets in all metrics, with little spikes in the validation set as compared to the baseline model's learning curve with erratic instability and a performance gap. Although the baseline performance displays an overall high macro average of 0.88, it only indicates high performance specific to the train data. When evaluated on unseen data, this model will be deemed inaccurate and unreliable due to model overfit.\n",
        "Whilst the tuned model has a slightly lower performance in some metrics compared to the baseline as seen in the table below, this model can generalise well to unseen data whilst also accurately performing well in predicting classes. *This comparison between baseline and the final isCancerous model is **valid** due to identical metrics, a combination of parameters contributed to the change in results, however lessening the learning rate was a main contributor to the improvement.*\n",
        "\n",
        "<div align=\"center\">\n",
        "\n",
        "| Class          | Metric     | Baseline Model | Tuned Model |\n",
        "|----------------|------------|----------------|-------------|\n",
        "| Non-cancerous  | Precision  | 0.91           | 0.93        |\n",
        "|                | Recall     | 0.89           | 0.85        |\n",
        "|                | F1 Score   | 0.90           | 0.89        |\n",
        "| Cancerous      | Precision  | 0.85           | 0.81        |\n",
        "|                | Recall     | 0.87           | 0.91        |\n",
        "|                | F1 Score   | 0.86           | 0.86        |\n",
        "| **Overall**    | Accuracy   | 0.88           | 0.88        |\n",
        "|                | Macro Avg  | 0.88           | 0.87        |\n",
        "| Generalisation |            | Overfitting    | Fitting well   \n",
        "\n",
        "</div>\n",
        "\n",
        "\n",
        "**Final isCancerous Model vs Academic Literature**\n",
        "\n",
        "The academic literature by Sirinukunwattana et al., proposes detection and classification techniques of nuclei. The research paper classifies each detected nucleus into one of the 4 classes of Epithelial, Inflammatory, Fibroblast, and Miscellaneous using 4 different models. Whereby the epithelial nucleus class is the only cancerous nuclei within this study.\n",
        "Since my final isCancerous model is a binary classification detecting if the cell is cancerous or not, an average of all the literature's model's F1-score for the 3 non-cancerous nucleus (inflammatory, fibroblast, and miscellaneous) will be compared against my models \"non-cancerous\" F1-score. The literature's f1-score for classifying the epithelial nuclei will be compared against my model's \"cancerous\" f1-score. Figure 7 and table III in the literature is used to compare results with my final model.\n",
        "\n",
        "<div align=\"center\">\n",
        "Classifying Cancerous\n",
        "\n",
        "|                     | Model                   | F1-Score       |\n",
        "|---------------------|-------------------------|----------------|\n",
        "| My Model            | Final isCancerous Model | 0.86           |\n",
        "| Academic Literature | Softmax CNN + SSPP      | 0.85           |\n",
        "|                     | Softmax CNN + NEP       | 0.88           |\n",
        "|                     | Superpixel descriptor   | 0.80           |\n",
        "|                     | CRImage                 | 0.49           |\n",
        "</div>\n",
        "\n",
        "It can be seen by the table above that the literature's softmax CNN + NEP model performs the best, leading by 0.02 over my final isCancerous model. The literature's model performs slightly better in classifying cancerous cells in the data, however comparison is limited due to comparison only on f1-score for all models.\n",
        "\n",
        "<div align=\"center\">\n",
        "Classifying Non-cancerous\n",
        "\n",
        "|                     | Model                   | F1-Score       |\n",
        "|---------------------|-------------------------|----------------|\n",
        "| My Model            | Final isCancerous Model | 0.89           |\n",
        "| Academic Literature | Softmax CNN + SSPP      | 0.63           |\n",
        "|                     | Softmax CNN + NEP       | 0.68           |\n",
        "|                     | Superpixel descriptor   | 0.56           |\n",
        "|                     | CRImage                 | 0.40           |\n",
        "</div>\n",
        "\n",
        "The literature's model's f1-scores for all models detecting non-cancerous cells perform much poorly than their classification in cancerous cells. My final isCancerous model performs the best with an f1-score of 0.89, followed by the literature's softmax CNN + NEP model with 0.68.\n",
        "\n",
        "My final isCancerous model performed similarly to the literature's softmax CNN + NEP model in classifying cancerous cells, however my model greatly exceeded the performance amongst the literature's models for classifying non-cancerous cells based on f1-scores. This **may be misleading or unfair** as the comparison is limited in metrics, whilst the literature also uses precision, recall and auc as metrics, its performance and results are determined by the f1-score of their models, thus limited to only f1-score."
      ],
      "metadata": {
        "id": "oGyF6CsGt4yx"
      }
    },
    {
      "cell_type": "markdown",
      "source": [
        "### Task 2: Classifying Cell Type\n",
        "**Author: Joelle**"
      ],
      "metadata": {
        "id": "vOAqA-dZT4NR"
      }
    },
    {
      "cell_type": "code",
      "source": [],
      "metadata": {
        "id": "8rsdJPhoT-hA"
      },
      "execution_count": null,
      "outputs": []
    },
    {
      "cell_type": "markdown",
      "source": [
        "#### Model Building (Baseline)"
      ],
      "metadata": {
        "id": "oxGA3FO7UFVq"
      }
    },
    {
      "cell_type": "code",
      "source": [
        "# Extracted from course content\n",
        "from tensorflow.keras.models import Sequential\n",
        "from tensorflow.keras.layers import Conv2D, MaxPooling2D, Activation, Flatten, Dense\n",
        "from tensorflow.keras.optimizers import Adam\n",
        "\n",
        "# Build the model\n",
        "y2_model = Sequential()\n",
        "\n",
        "# Block 1\n",
        "y2_model.add(Conv2D(32, (3, 3), input_shape=(27, 27, 3)))\n",
        "y2_model.add(Activation('relu'))\n",
        "y2_model.add(MaxPooling2D(pool_size=(2, 2)))\n",
        "\n",
        "# Block 2\n",
        "y2_model.add(Conv2D(64, (3, 3)))\n",
        "y2_model.add(Activation('relu'))\n",
        "y2_model.add(MaxPooling2D(pool_size=(2, 2)))\n",
        "\n",
        "# Classification head\n",
        "y2_model.add(Flatten())              # Flatten the output for the dense layer\n",
        "y2_model.add(Dense(64))              # Dense layer with 64 units\n",
        "y2_model.add(Activation('relu'))\n",
        "y2_model.add(Dense(4))               # 4 output classes for cellTypeName\n",
        "y2_model.add(Activation('softmax'))  # Softmax for multi-class classification\n",
        "\n",
        "# Compile the model with Adam optimizer\n",
        "optimizer = Adam(learning_rate=0.001)  # Instantiate Adam optimizer\n",
        "y2_model.compile(loss='categorical_crossentropy',\n",
        "              optimizer=optimizer,  # Use the instantiated optimizer here\n",
        "              metrics=['accuracy'])\n",
        "\n",
        "# Fit the model to the data\n",
        "y2_model.fit(x_train, y2_train, epochs=10,  # Number of epochs to train\n",
        "          batch_size=32,  # Size of the batches for each training step\n",
        "          validation_data=(x_val, y2_val),  # Validation data (optional, but recommended)\n",
        "          verbose=1  # Show progress bar during training (0 = silent, 1 = progress bar)\n",
        ")\n"
      ],
      "metadata": {
        "id": "jKPc9sT2Ue-z",
        "outputId": "704ee655-294a-48d1-cd18-bf9a89e0b031",
        "colab": {
          "base_uri": "https://localhost:8080/"
        }
      },
      "execution_count": null,
      "outputs": [
        {
          "output_type": "stream",
          "name": "stderr",
          "text": [
            "/usr/local/lib/python3.11/dist-packages/keras/src/layers/convolutional/base_conv.py:107: UserWarning: Do not pass an `input_shape`/`input_dim` argument to a layer. When using Sequential models, prefer using an `Input(shape)` object as the first layer in the model instead.\n",
            "  super().__init__(activity_regularizer=activity_regularizer, **kwargs)\n"
          ]
        },
        {
          "output_type": "stream",
          "name": "stdout",
          "text": [
            "Epoch 1/10\n",
            "\u001b[1m186/186\u001b[0m \u001b[32m━━━━━━━━━━━━━━━━━━━━\u001b[0m\u001b[37m\u001b[0m \u001b[1m6s\u001b[0m 18ms/step - accuracy: 0.5237 - loss: 1.1423 - val_accuracy: 0.6761 - val_loss: 0.8057\n",
            "Epoch 2/10\n",
            "\u001b[1m186/186\u001b[0m \u001b[32m━━━━━━━━━━━━━━━━━━━━\u001b[0m\u001b[37m\u001b[0m \u001b[1m1s\u001b[0m 4ms/step - accuracy: 0.6840 - loss: 0.8164 - val_accuracy: 0.6892 - val_loss: 0.7741\n",
            "Epoch 3/10\n",
            "\u001b[1m186/186\u001b[0m \u001b[32m━━━━━━━━━━━━━━━━━━━━\u001b[0m\u001b[37m\u001b[0m \u001b[1m1s\u001b[0m 4ms/step - accuracy: 0.7060 - loss: 0.7438 - val_accuracy: 0.7135 - val_loss: 0.7352\n",
            "Epoch 4/10\n",
            "\u001b[1m186/186\u001b[0m \u001b[32m━━━━━━━━━━━━━━━━━━━━\u001b[0m\u001b[37m\u001b[0m \u001b[1m1s\u001b[0m 4ms/step - accuracy: 0.7337 - loss: 0.6987 - val_accuracy: 0.6918 - val_loss: 0.7602\n",
            "Epoch 5/10\n",
            "\u001b[1m186/186\u001b[0m \u001b[32m━━━━━━━━━━━━━━━━━━━━\u001b[0m\u001b[37m\u001b[0m \u001b[1m1s\u001b[0m 5ms/step - accuracy: 0.7262 - loss: 0.7045 - val_accuracy: 0.7302 - val_loss: 0.6881\n",
            "Epoch 6/10\n",
            "\u001b[1m186/186\u001b[0m \u001b[32m━━━━━━━━━━━━━━━━━━━━\u001b[0m\u001b[37m\u001b[0m \u001b[1m1s\u001b[0m 4ms/step - accuracy: 0.7414 - loss: 0.6670 - val_accuracy: 0.7302 - val_loss: 0.6856\n",
            "Epoch 7/10\n",
            "\u001b[1m186/186\u001b[0m \u001b[32m━━━━━━━━━━━━━━━━━━━━\u001b[0m\u001b[37m\u001b[0m \u001b[1m1s\u001b[0m 4ms/step - accuracy: 0.7542 - loss: 0.6404 - val_accuracy: 0.7302 - val_loss: 0.6956\n",
            "Epoch 8/10\n",
            "\u001b[1m186/186\u001b[0m \u001b[32m━━━━━━━━━━━━━━━━━━━━\u001b[0m\u001b[37m\u001b[0m \u001b[1m1s\u001b[0m 4ms/step - accuracy: 0.7474 - loss: 0.6632 - val_accuracy: 0.7155 - val_loss: 0.7416\n",
            "Epoch 9/10\n",
            "\u001b[1m186/186\u001b[0m \u001b[32m━━━━━━━━━━━━━━━━━━━━\u001b[0m\u001b[37m\u001b[0m \u001b[1m1s\u001b[0m 5ms/step - accuracy: 0.7732 - loss: 0.6113 - val_accuracy: 0.7140 - val_loss: 0.7207\n",
            "Epoch 10/10\n",
            "\u001b[1m186/186\u001b[0m \u001b[32m━━━━━━━━━━━━━━━━━━━━\u001b[0m\u001b[37m\u001b[0m \u001b[1m1s\u001b[0m 4ms/step - accuracy: 0.7728 - loss: 0.6036 - val_accuracy: 0.7413 - val_loss: 0.6734\n"
          ]
        },
        {
          "output_type": "execute_result",
          "data": {
            "text/plain": [
              "<keras.src.callbacks.history.History at 0x7c52540c3d90>"
            ]
          },
          "metadata": {},
          "execution_count": 20
        }
      ]
    },
    {
      "cell_type": "code",
      "source": [
        "loss, accuracy = y2_model.evaluate(x_val, y2_val, verbose=1)\n",
        "print(f'Validation Loss: {loss:.4f}')\n",
        "print(f'Validation Accuracy: {accuracy:.4f}')\n",
        "\n",
        "test_loss, test_accuracy = y2_model.evaluate(x_test, y2_test, verbose=1)\n",
        "print(f'Test Accuracy: {test_accuracy:.4f}')\n"
      ],
      "metadata": {
        "id": "6597DQAjjr1i",
        "outputId": "57168b4c-ac19-4e17-feb5-16c1c91807c7",
        "colab": {
          "base_uri": "https://localhost:8080/"
        }
      },
      "execution_count": null,
      "outputs": [
        {
          "output_type": "stream",
          "name": "stdout",
          "text": [
            "\u001b[1m62/62\u001b[0m \u001b[32m━━━━━━━━━━━━━━━━━━━━\u001b[0m\u001b[37m\u001b[0m \u001b[1m0s\u001b[0m 2ms/step - accuracy: 0.7177 - loss: 0.7141\n",
            "Validation Loss: 0.6734\n",
            "Validation Accuracy: 0.7413\n",
            "\u001b[1m62/62\u001b[0m \u001b[32m━━━━━━━━━━━━━━━━━━━━\u001b[0m\u001b[37m\u001b[0m \u001b[1m1s\u001b[0m 14ms/step - accuracy: 0.7345 - loss: 0.6999\n",
            "Test Accuracy: 0.7439\n"
          ]
        }
      ]
    },
    {
      "cell_type": "code",
      "source": [
        "from sklearn.metrics import confusion_matrix, classification_report\n",
        "import numpy as np\n",
        "\n",
        "y_pred = y2_model.predict(x_val)\n",
        "y_pred_classes = np.argmax(y_pred, axis=1)\n",
        "y_true = np.argmax(y2_val, axis=1)\n",
        "\n",
        "print(confusion_matrix(y_true, y_pred_classes))\n",
        "print(classification_report(y_true, y_pred_classes))\n"
      ],
      "metadata": {
        "id": "WZnsWrctju9Y",
        "outputId": "7b92d90d-5301-4d63-ef6a-14ac3acef57e",
        "colab": {
          "base_uri": "https://localhost:8080/"
        }
      },
      "execution_count": null,
      "outputs": [
        {
          "output_type": "stream",
          "name": "stdout",
          "text": [
            "\u001b[1m62/62\u001b[0m \u001b[32m━━━━━━━━━━━━━━━━━━━━\u001b[0m\u001b[37m\u001b[0m \u001b[1m1s\u001b[0m 6ms/step\n",
            "[[226  43  86  33]\n",
            " [ 23 369  58  53]\n",
            " [ 15  34 759   8]\n",
            " [ 41  75  43 113]]\n",
            "              precision    recall  f1-score   support\n",
            "\n",
            "           0       0.74      0.58      0.65       388\n",
            "           1       0.71      0.73      0.72       503\n",
            "           2       0.80      0.93      0.86       816\n",
            "           3       0.55      0.42      0.47       272\n",
            "\n",
            "    accuracy                           0.74      1979\n",
            "   macro avg       0.70      0.67      0.68      1979\n",
            "weighted avg       0.73      0.74      0.73      1979\n",
            "\n"
          ]
        }
      ]
    },
    {
      "cell_type": "code",
      "source": [
        "from sklearn.metrics import confusion_matrix\n",
        "import seaborn as sns\n",
        "import matplotlib.pyplot as plt\n",
        "\n",
        "cm = confusion_matrix(y_true, y_pred_classes)\n",
        "\n",
        "plt.figure(figsize=(6, 4))\n",
        "sns.heatmap(cm, annot=True, fmt='d', cmap='Blues')\n",
        "plt.xlabel('Predicted')\n",
        "plt.ylabel('True')\n",
        "plt.title('Confusion Matrix')\n",
        "plt.show()"
      ],
      "metadata": {
        "id": "qw-HVWbxjxHo",
        "outputId": "c03e029d-ab11-4e1a-83de-c45cb30f0758",
        "colab": {
          "base_uri": "https://localhost:8080/",
          "height": 410
        }
      },
      "execution_count": null,
      "outputs": [
        {
          "output_type": "display_data",
          "data": {
            "text/plain": [
              "<Figure size 600x400 with 2 Axes>"
            ],
            "image/png": "[encoded data removed]"
          },
          "metadata": {}
        }
      ]
    },
    {
      "cell_type": "code",
      "source": [
        "from sklearn.metrics import roc_auc_score\n",
        "\n",
        "# For one-hot encoded true and predicted probs\n",
        "auc = roc_auc_score(y2_val, y_pred, multi_class='ovr')\n",
        "print(f\"Macro AUC: {auc:.4f}\")\n"
      ],
      "metadata": {
        "id": "RG4ta-ZQjz7a",
        "outputId": "60335f87-1317-4fb2-81d1-e8c726039eb9",
        "colab": {
          "base_uri": "https://localhost:8080/"
        }
      },
      "execution_count": null,
      "outputs": [
        {
          "output_type": "stream",
          "name": "stdout",
          "text": [
            "Macro AUC: 0.9079\n"
          ]
        }
      ]
    },
    {
      "cell_type": "code",
      "source": [
        "# Train the model and capture history\n",
        "history = y2_model.fit(\n",
        "    x_train, y2_train,\n",
        "    epochs=10,\n",
        "    batch_size=32,\n",
        "    validation_data=(x_val, y2_val),\n",
        "    verbose=1\n",
        ")\n"
      ],
      "metadata": {
        "id": "05FtVx_4naGZ",
        "outputId": "bd8beadd-5175-48e8-b978-a29e0b84c057",
        "colab": {
          "base_uri": "https://localhost:8080/"
        }
      },
      "execution_count": null,
      "outputs": [
        {
          "output_type": "stream",
          "name": "stdout",
          "text": [
            "Epoch 1/10\n",
            "\u001b[1m186/186\u001b[0m \u001b[32m━━━━━━━━━━━━━━━━━━━━\u001b[0m\u001b[37m\u001b[0m \u001b[1m1s\u001b[0m 7ms/step - accuracy: 0.7809 - loss: 0.5735 - val_accuracy: 0.7463 - val_loss: 0.6680\n",
            "Epoch 2/10\n",
            "\u001b[1m186/186\u001b[0m \u001b[32m━━━━━━━━━━━━━━━━━━━━\u001b[0m\u001b[37m\u001b[0m \u001b[1m2s\u001b[0m 6ms/step - accuracy: 0.7867 - loss: 0.5702 - val_accuracy: 0.7383 - val_loss: 0.7071\n",
            "Epoch 3/10\n",
            "\u001b[1m186/186\u001b[0m \u001b[32m━━━━━━━━━━━━━━━━━━━━\u001b[0m\u001b[37m\u001b[0m \u001b[1m1s\u001b[0m 7ms/step - accuracy: 0.8043 - loss: 0.5322 - val_accuracy: 0.7408 - val_loss: 0.6764\n",
            "Epoch 4/10\n",
            "\u001b[1m186/186\u001b[0m \u001b[32m━━━━━━━━━━━━━━━━━━━━\u001b[0m\u001b[37m\u001b[0m \u001b[1m2s\u001b[0m 5ms/step - accuracy: 0.7995 - loss: 0.5314 - val_accuracy: 0.7463 - val_loss: 0.6679\n",
            "Epoch 5/10\n",
            "\u001b[1m186/186\u001b[0m \u001b[32m━━━━━━━━━━━━━━━━━━━━\u001b[0m\u001b[37m\u001b[0m \u001b[1m1s\u001b[0m 4ms/step - accuracy: 0.8087 - loss: 0.5051 - val_accuracy: 0.7317 - val_loss: 0.6791\n",
            "Epoch 6/10\n",
            "\u001b[1m186/186\u001b[0m \u001b[32m━━━━━━━━━━━━━━━━━━━━\u001b[0m\u001b[37m\u001b[0m \u001b[1m1s\u001b[0m 4ms/step - accuracy: 0.8041 - loss: 0.4967 - val_accuracy: 0.7372 - val_loss: 0.6815\n",
            "Epoch 7/10\n",
            "\u001b[1m186/186\u001b[0m \u001b[32m━━━━━━━━━━━━━━━━━━━━\u001b[0m\u001b[37m\u001b[0m \u001b[1m1s\u001b[0m 5ms/step - accuracy: 0.8364 - loss: 0.4432 - val_accuracy: 0.7549 - val_loss: 0.6701\n",
            "Epoch 8/10\n",
            "\u001b[1m186/186\u001b[0m \u001b[32m━━━━━━━━━━━━━━━━━━━━\u001b[0m\u001b[37m\u001b[0m \u001b[1m1s\u001b[0m 5ms/step - accuracy: 0.8388 - loss: 0.4366 - val_accuracy: 0.7479 - val_loss: 0.6781\n",
            "Epoch 9/10\n",
            "\u001b[1m186/186\u001b[0m \u001b[32m━━━━━━━━━━━━━━━━━━━━\u001b[0m\u001b[37m\u001b[0m \u001b[1m1s\u001b[0m 5ms/step - accuracy: 0.8471 - loss: 0.4133 - val_accuracy: 0.7393 - val_loss: 0.7216\n",
            "Epoch 10/10\n",
            "\u001b[1m186/186\u001b[0m \u001b[32m━━━━━━━━━━━━━━━━━━━━\u001b[0m\u001b[37m\u001b[0m \u001b[1m1s\u001b[0m 5ms/step - accuracy: 0.8564 - loss: 0.3813 - val_accuracy: 0.7216 - val_loss: 0.7541\n"
          ]
        }
      ]
    },
    {
      "cell_type": "code",
      "source": [
        "import matplotlib.pyplot as plt\n",
        "\n",
        "def plot_learning_curves(history, metric_name='accuracy'):\n",
        "    \"\"\"\n",
        "    Plots training & validation accuracy and loss from model history.\n",
        "    \"\"\"\n",
        "    epochs = range(1, len(history.history[metric_name]) + 1)\n",
        "\n",
        "    # Plot Accuracy\n",
        "    plt.figure(figsize=(6, 4))\n",
        "    plt.plot(epochs, history.history[metric_name], 'b-o', label='Training Accuracy')\n",
        "    plt.plot(epochs, history.history['val_' + metric_name], 'r--s', label='Validation Accuracy')\n",
        "    plt.title(f'{metric_name.title()} Over Epochs')\n",
        "    plt.xlabel('Epochs')\n",
        "    plt.ylabel(metric_name.title())\n",
        "    plt.grid(True, linestyle='--', alpha=0.5)\n",
        "    plt.legend()\n",
        "    plt.tight_layout()\n",
        "    plt.show()\n",
        "\n",
        "    # Plot Loss\n",
        "    plt.figure(figsize=(6, 4))\n",
        "    plt.plot(epochs, history.history['loss'], 'g-o', label='Training Loss')\n",
        "    plt.plot(epochs, history.history['val_loss'], 'm--s', label='Validation Loss')\n",
        "    plt.title('Loss Over Epochs')\n",
        "    plt.xlabel('Epochs')\n",
        "    plt.ylabel('Loss')\n",
        "    plt.grid(True, linestyle='--', alpha=0.5)\n",
        "    plt.legend()\n",
        "    plt.tight_layout()\n",
        "    plt.show()\n",
        "\n",
        "plot_learning_curves(history, metric_name='accuracy')\n"
      ],
      "metadata": {
        "id": "jXOTN0GGnxTA",
        "outputId": "06aee413-9319-4f61-891a-c4db8140accf",
        "colab": {
          "base_uri": "https://localhost:8080/",
          "height": 797
        }
      },
      "execution_count": null,
      "outputs": [
        {
          "output_type": "display_data",
          "data": {
            "text/plain": [
              "<Figure size 600x400 with 1 Axes>"
            ],
            "image/png": "[encoded data removed]"
          },
          "metadata": {}
        },
        {
          "output_type": "display_data",
          "data": {
            "text/plain": [
              "<Figure size 600x400 with 1 Axes>"
            ],
            "image/png": "[encoded data removed]"
          },
          "metadata": {}
        }
      ]
    },
    {
      "cell_type": "code",
      "source": [
        "y2_model.save('baseline_y2_model.keras')\n"
      ],
      "metadata": {
        "id": "-qZQ1NIijwIX"
      },
      "execution_count": null,
      "outputs": []
    },
    {
      "cell_type": "markdown",
      "source": [
        "#### Model Training (Parameter Tuning)"
      ],
      "metadata": {
        "id": "J-CLdG3HUfcy"
      }
    },
    {
      "cell_type": "code",
      "source": [],
      "metadata": {
        "id": "CNxoUL78UiOM"
      },
      "execution_count": null,
      "outputs": []
    },
    {
      "cell_type": "markdown",
      "source": [
        "#### Evaluation"
      ],
      "metadata": {
        "id": "VrmEhhymUivR"
      }
    },
    {
      "cell_type": "code",
      "source": [],
      "metadata": {
        "id": "GANQNsFAUoKg"
      },
      "execution_count": null,
      "outputs": []
    },
    {
      "cell_type": "markdown",
      "source": [
        "## Ultimate Judgement"
      ],
      "metadata": {
        "id": "o2g2EBuYUr_g"
      }
    },
    {
      "cell_type": "code",
      "source": [],
      "metadata": {
        "id": "FbZeRfrxUuAd"
      },
      "execution_count": null,
      "outputs": []
    },
    {
      "cell_type": "markdown",
      "source": [
        "## Conclusion"
      ],
      "metadata": {
        "id": "_RmAwCYIUua1"
      }
    },
    {
      "cell_type": "code",
      "source": [],
      "metadata": {
        "id": "n2u-49lwUvXL"
      },
      "execution_count": null,
      "outputs": []
    }
  ]
}