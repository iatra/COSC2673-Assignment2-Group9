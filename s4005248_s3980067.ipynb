{
  "nbformat": 4,
  "nbformat_minor": 0,
  "metadata": {
    "colab": {
      "provenance": [],
      "gpuType": "T4",
      "include_colab_link": true
    },
    "kernelspec": {
      "name": "python3",
      "display_name": "Python 3"
    },
    "language_info": {
      "name": "python"
    },
    "accelerator": "GPU"
  },
  "cells": [
    {
      "cell_type": "markdown",
      "metadata": {
        "id": "view-in-github",
        "colab_type": "text"
      },
      "source": [
        "<a href=\"https://colab.research.google.com/github/iatra/COSC2673-Assignment2-Group9/blob/main/s4005248_s3980067.ipynb\" target=\"_parent\"><img src=\"https://colab.research.google.com/assets/colab-badge.svg\" alt=\"Open In Colab\"/></a>"
      ]
    },
    {
      "cell_type": "markdown",
      "source": [
        "# Machine Learning COSC2673-Assignment2-Group9\n",
        "Author : Joelle Lee Ming Yin (s3980067) & Isabella Tranquilino (s4005248)"
      ],
      "metadata": {
        "id": "yVIjtEiLGrRY"
      }
    },
    {
      "cell_type": "markdown",
      "source": [
        "# Load Dataset"
      ],
      "metadata": {
        "id": "vyR97aAjHjqN"
      }
    },
    {
      "cell_type": "code",
      "source": [
        "from google.colab import drive\n",
        "drive.mount('/content/drive')\n",
        "\n",
        "# Both users update the path to point to the shared folder\n",
        "zip_path = '/content/drive/MyDrive/ML A2 Dataset/Image_classification_data.zip'\n",
        "\n",
        "import zipfile\n",
        "with zipfile.ZipFile(zip_path, 'r') as zip_ref:\n",
        "    zip_ref.extractall('/content/data')\n",
        "\n",
        "import os\n",
        "\n",
        "# List first few files/folders in the extraction folder\n",
        "extracted_path = '/content/data'\n",
        "for root, dirs, files in os.walk(extracted_path):\n",
        "    print(f\"Directory: {root}\")\n",
        "    for file in files[:5]:  # Show up to 5 files per directory\n",
        "        print(f\"  - {file}\")\n",
        "    break  # Remove this if you want to see all subfolders\n"
      ],
      "metadata": {
        "colab": {
          "base_uri": "https://localhost:8080/"
        },
        "id": "mombdUtTH8UG",
        "outputId": "5d2be5ae-7901-45df-ee7b-074d3daeead9"
      },
      "execution_count": 28,
      "outputs": [
        {
          "output_type": "stream",
          "name": "stdout",
          "text": [
            "Drive already mounted at /content/drive; to attempt to forcibly remount, call drive.mount(\"/content/drive\", force_remount=True).\n",
            "Directory: /content/data\n",
            "  - data_labels_mainData.csv\n",
            "  - data_labels_extraData.csv\n"
          ]
        }
      ]
    }
  ]
}