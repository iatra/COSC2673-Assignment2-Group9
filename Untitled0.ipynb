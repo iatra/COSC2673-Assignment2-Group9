{
  "nbformat": 4,
  "nbformat_minor": 0,
  "metadata": {
    "colab": {
      "provenance": [],
      "gpuType": "T4",
      "authorship_tag": "ABX9TyNtOVTRpOnwezpuLUFZn6MS",
      "include_colab_link": true
    },
    "kernelspec": {
      "name": "python3",
      "display_name": "Python 3"
    },
    "language_info": {
      "name": "python"
    },
    "accelerator": "GPU"
  },
  "cells": [
    {
      "cell_type": "markdown",
      "metadata": {
        "id": "view-in-github",
        "colab_type": "text"
      },
      "source": [
        "<a href=\"https://colab.research.google.com/github/iatra/testing/blob/main/Untitled0.ipynb\" target=\"_parent\"><img src=\"https://colab.research.google.com/assets/colab-badge.svg\" alt=\"Open In Colab\"/></a>"
      ]
    },
    {
      "cell_type": "code",
      "execution_count": 4,
      "metadata": {
        "colab": {
          "base_uri": "https://localhost:8080/"
        },
        "id": "ZlyzHINp-3CA",
        "outputId": "98b4b560-eae6-4c39-c969-b73697cc7757"
      },
      "outputs": [
        {
          "output_type": "stream",
          "name": "stdout",
          "text": [
            "fatal: destination path 'testing' already exists and is not an empty directory.\n"
          ]
        }
      ],
      "source": [
        "!git clone https://github.com/iatra/testing.git"
      ]
    },
    {
      "cell_type": "code",
      "source": [
        "!ls"
      ],
      "metadata": {
        "colab": {
          "base_uri": "https://localhost:8080/"
        },
        "id": "K4IhR6m8_q0o",
        "outputId": "c15a8f0c-b1e6-45a8-ccdc-f06be3e890f4"
      },
      "execution_count": 5,
      "outputs": [
        {
          "output_type": "stream",
          "name": "stdout",
          "text": [
            "sample_data  testing\n"
          ]
        }
      ]
    },
    {
      "cell_type": "code",
      "source": [
        "!git config --global user.email \"s4005248@student.rmit.edu.au\"\n",
        "!git config --global user.name \"iatra\""
      ],
      "metadata": {
        "id": "x_AMVZMxAfT6"
      },
      "execution_count": null,
      "outputs": []
    },
    {
      "cell_type": "markdown",
      "source": [],
      "metadata": {
        "id": "0zqOiA2a_tkE"
      }
    },
    {
      "cell_type": "code",
      "source": [
        "!cd testing && git add . && git commit -m \"testing commit from colab to github\" && git push origin main\n"
      ],
      "metadata": {
        "colab": {
          "base_uri": "https://localhost:8080/"
        },
        "id": "SxmXPkqq_MZs",
        "outputId": "d7af2cea-a275-4cf7-cb54-6a95d1f6320f"
      },
      "execution_count": 13,
      "outputs": [
        {
          "output_type": "stream",
          "name": "stdout",
          "text": [
            "On branch main\n",
            "Your branch is up to date with 'origin/main'.\n",
            "\n",
            "nothing to commit, working tree clean\n"
          ]
        }
      ]
    },
    {
      "cell_type": "markdown",
      "source": [
        "# Heading"
      ],
      "metadata": {
        "id": "SV5Ot4sYAgNF"
      }
    },
    {
      "cell_type": "code",
      "source": [
        "!cd testing && git add . && git commit -m \"heading\" && git push origin main\n"
      ],
      "metadata": {
        "id": "Cnp-LKJ0AjTz"
      },
      "execution_count": null,
      "outputs": []
    }
  ]
}