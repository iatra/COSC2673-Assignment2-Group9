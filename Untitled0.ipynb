{
  "nbformat": 4,
  "nbformat_minor": 0,
  "metadata": {
    "colab": {
      "provenance": [],
      "gpuType": "T4",
      "include_colab_link": true
    },
    "kernelspec": {
      "name": "python3",
      "display_name": "Python 3"
    },
    "language_info": {
      "name": "python"
    },
    "accelerator": "GPU"
  },
  "cells": [
    {
      "cell_type": "markdown",
      "metadata": {
        "id": "view-in-github",
        "colab_type": "text"
      },
      "source": [
        "<a href=\"https://colab.research.google.com/github/iatra/testing/blob/main/Untitled0.ipynb\" target=\"_parent\"><img src=\"https://colab.research.google.com/assets/colab-badge.svg\" alt=\"Open In Colab\"/></a>"
      ]
    },
    {
      "cell_type": "code",
      "execution_count": 10,
      "metadata": {
        "colab": {
          "base_uri": "https://localhost:8080/"
        },
        "id": "ZlyzHINp-3CA",
        "outputId": "a9f0e2e7-df1d-45c9-d9c9-3de4c17cf88b"
      },
      "outputs": [
        {
          "output_type": "stream",
          "name": "stdout",
          "text": [
            "Cloning into 'testing'...\n",
            "remote: Enumerating objects: 6, done.\u001b[K\n",
            "remote: Counting objects: 100% (6/6), done.\u001b[K\n",
            "remote: Compressing objects: 100% (4/4), done.\u001b[K\n",
            "remote: Total 6 (delta 0), reused 0 (delta 0), pack-reused 0 (from 0)\u001b[K\n",
            "Receiving objects: 100% (6/6), done.\n"
          ]
        }
      ],
      "source": [
        "!git clone https://github.com/iatra/testing.git"
      ]
    },
    {
      "cell_type": "code",
      "source": [
        "!ls"
      ],
      "metadata": {
        "colab": {
          "base_uri": "https://localhost:8080/"
        },
        "id": "K4IhR6m8_q0o",
        "outputId": "f7082833-26d3-4c4f-831e-e02c08f10baa"
      },
      "execution_count": 11,
      "outputs": [
        {
          "output_type": "stream",
          "name": "stdout",
          "text": [
            "sample_data  testing\n"
          ]
        }
      ]
    },
    {
      "cell_type": "code",
      "source": [
        "!git config --global user.email \"s4005248@student.rmit.edu.au\"\n",
        "!git config --global user.name \"iatra\""
      ],
      "metadata": {
        "id": "x_AMVZMxAfT6"
      },
      "execution_count": 12,
      "outputs": []
    },
    {
      "cell_type": "markdown",
      "source": [],
      "metadata": {
        "id": "0zqOiA2a_tkE"
      }
    },
    {
      "cell_type": "code",
      "source": [
        "!cd testing && git add . && git commit -m \"testing commit from colab to github\" && git push origin main\n"
      ],
      "metadata": {
        "colab": {
          "base_uri": "https://localhost:8080/"
        },
        "id": "SxmXPkqq_MZs",
        "outputId": "01ca904f-28e3-4c2f-e999-a574bdc937aa"
      },
      "execution_count": 13,
      "outputs": [
        {
          "output_type": "stream",
          "name": "stdout",
          "text": [
            "On branch main\n",
            "Your branch is up to date with 'origin/main'.\n",
            "\n",
            "nothing to commit, working tree clean\n"
          ]
        }
      ]
    },
    {
      "cell_type": "markdown",
      "source": [
        "# Heading"
      ],
      "metadata": {
        "id": "SV5Ot4sYAgNF"
      }
    },
    {
      "cell_type": "code",
      "source": [
        "!cd testing && git add . && git commit -m \"heading\" && git push origin main\n"
      ],
      "metadata": {
        "colab": {
          "base_uri": "https://localhost:8080/"
        },
        "id": "Cnp-LKJ0AjTz",
        "outputId": "7e555223-64e2-4b3e-f661-9481b8964344"
      },
      "execution_count": null,
      "outputs": [
        {
          "output_type": "stream",
          "name": "stdout",
          "text": [
            "On branch main\n",
            "Your branch is up to date with 'origin/main'.\n",
            "\n",
            "nothing to commit, working tree clean\n"
          ]
        }
      ]
    },
    {
      "cell_type": "markdown",
      "source": [
        "Joelle edit\n",
        "\n"
      ],
      "metadata": {
        "id": "RM5C0u0GB7TS"
      }
    },
    {
      "cell_type": "code",
      "source": [
        "!git config --global user.email \"s3980067@student.rmit.edu.au\"\n",
        "!git config --global user.name \"joelleleemy\""
      ],
      "metadata": {
        "id": "k5YFhLd3BkoJ"
      },
      "execution_count": 20,
      "outputs": []
    },
    {
      "cell_type": "code",
      "source": [
        "!ls"
      ],
      "metadata": {
        "colab": {
          "base_uri": "https://localhost:8080/"
        },
        "id": "533BCV6jDK6r",
        "outputId": "9792eb5f-82f1-438f-d12c-48302e1f2316"
      },
      "execution_count": 21,
      "outputs": [
        {
          "output_type": "stream",
          "name": "stdout",
          "text": [
            "sample_data  testing\n"
          ]
        }
      ]
    },
    {
      "cell_type": "markdown",
      "source": [
        "hi from joelle\n"
      ],
      "metadata": {
        "id": "7yLZVq0QD_sa"
      }
    },
    {
      "cell_type": "code",
      "source": [
        "!cd testing && git add . && git commit -m \"joelle testing commit from colab to github\" && git push origin main\n",
        "!cd testing && git add . && git commit -m \"Joelle heading\" && git push origin main"
      ],
      "metadata": {
        "colab": {
          "base_uri": "https://localhost:8080/"
        },
        "id": "62Xgs1KEB_KY",
        "outputId": "2673edaa-c58d-4f7c-957b-a85ac6c55b89"
      },
      "execution_count": 22,
      "outputs": [
        {
          "output_type": "stream",
          "name": "stdout",
          "text": [
            "On branch main\n",
            "Your branch is up to date with 'origin/main'.\n",
            "\n",
            "nothing to commit, working tree clean\n",
            "On branch main\n",
            "Your branch is up to date with 'origin/main'.\n",
            "\n",
            "nothing to commit, working tree clean\n"
          ]
        }
      ]
    },
    {
      "cell_type": "code",
      "source": [],
      "metadata": {
        "id": "d_jvWyUmD_S7"
      },
      "execution_count": null,
      "outputs": []
    }
  ]
}